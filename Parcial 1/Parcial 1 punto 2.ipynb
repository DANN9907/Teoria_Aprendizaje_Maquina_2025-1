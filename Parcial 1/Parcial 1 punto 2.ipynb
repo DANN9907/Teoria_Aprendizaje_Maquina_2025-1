{
  "nbformat": 4,
  "nbformat_minor": 0,
  "metadata": {
    "colab": {
      "provenance": [],
      "collapsed_sections": [
        "VXMTbxmVvmbL",
        "BEWtcDAMSzzl",
        "Wy8Yj31HTZUa",
        "usANHQTaY4b0",
        "VoT3tZX6baJ7",
        "6R_7TxgvcoQF",
        "a_bXcz2ieBe1",
        "1qFIyaCjgNRK",
        "yIgRpqvbhPEb"
      ]
    },
    "kernelspec": {
      "name": "python3",
      "display_name": "Python 3"
    },
    "language_info": {
      "name": "python"
    }
  },
  "cells": [
    {
      "cell_type": "markdown",
      "source": [
        "#Linear regresor"
      ],
      "metadata": {
        "id": "SihpIMr4vdvO"
      }
    },
    {
      "cell_type": "code",
      "source": [
        "pip install scikit-optimize"
      ],
      "metadata": {
        "colab": {
          "base_uri": "https://localhost:8080/"
        },
        "id": "P8gpgbgfTDxF",
        "outputId": "ad1ffa94-1f5c-40fb-a91c-67fd40897fdf"
      },
      "execution_count": null,
      "outputs": [
        {
          "output_type": "stream",
          "name": "stdout",
          "text": [
            "Collecting scikit-optimize\n",
            "  Downloading scikit_optimize-0.10.2-py2.py3-none-any.whl.metadata (9.7 kB)\n",
            "Requirement already satisfied: joblib>=0.11 in /usr/local/lib/python3.11/dist-packages (from scikit-optimize) (1.5.0)\n",
            "Collecting pyaml>=16.9 (from scikit-optimize)\n",
            "  Downloading pyaml-25.1.0-py3-none-any.whl.metadata (12 kB)\n",
            "Requirement already satisfied: numpy>=1.20.3 in /usr/local/lib/python3.11/dist-packages (from scikit-optimize) (2.0.2)\n",
            "Requirement already satisfied: scipy>=1.1.0 in /usr/local/lib/python3.11/dist-packages (from scikit-optimize) (1.15.3)\n",
            "Requirement already satisfied: scikit-learn>=1.0.0 in /usr/local/lib/python3.11/dist-packages (from scikit-optimize) (1.6.1)\n",
            "Requirement already satisfied: packaging>=21.3 in /usr/local/lib/python3.11/dist-packages (from scikit-optimize) (24.2)\n",
            "Requirement already satisfied: PyYAML in /usr/local/lib/python3.11/dist-packages (from pyaml>=16.9->scikit-optimize) (6.0.2)\n",
            "Requirement already satisfied: threadpoolctl>=3.1.0 in /usr/local/lib/python3.11/dist-packages (from scikit-learn>=1.0.0->scikit-optimize) (3.6.0)\n",
            "Downloading scikit_optimize-0.10.2-py2.py3-none-any.whl (107 kB)\n",
            "\u001b[2K   \u001b[90m━━━━━━━━━━━━━━━━━━━━━━━━━━━━━━━━━━━━━━━━\u001b[0m \u001b[32m107.8/107.8 kB\u001b[0m \u001b[31m1.0 MB/s\u001b[0m eta \u001b[36m0:00:00\u001b[0m\n",
            "\u001b[?25hDownloading pyaml-25.1.0-py3-none-any.whl (26 kB)\n",
            "Installing collected packages: pyaml, scikit-optimize\n",
            "Successfully installed pyaml-25.1.0 scikit-optimize-0.10.2\n"
          ]
        }
      ]
    },
    {
      "cell_type": "code",
      "source": [
        "import pandas as pd\n",
        "import numpy as np\n",
        "import seaborn as sns\n",
        "import matplotlib.pyplot as plt\n",
        "\n",
        "from scipy import stats\n",
        "from scipy.stats import loguniform, uniform\n",
        "from scipy.stats import uniform, randint\n",
        "\n",
        "from sklearn.preprocessing import OneHotEncoder\n",
        "from sklearn.model_selection import GridSearchCV, cross_validate, KFold, RandomizedSearchCV, GridSearchCV\n",
        "from sklearn.linear_model import LinearRegression\n",
        "from sklearn.metrics import make_scorer, mean_absolute_error, mean_squared_error, r2_score, mean_absolute_percentage_error\n",
        "from sklearn.model_selection import cross_val_predict\n",
        "from sklearn.preprocessing import StandardScaler\n",
        "from sklearn.linear_model import Lasso, BayesianRidge, SGDRegressor\n",
        "from sklearn.kernel_ridge import KernelRidge\n",
        "from sklearn.gaussian_process.kernels import RBF, DotProduct, WhiteKernel, ConstantKernel\n",
        "from sklearn.gaussian_process import GaussianProcessRegressor\n",
        "from sklearn.ensemble import RandomForestRegressor\n",
        "from sklearn.svm import SVR\n",
        "from sklearn.base import BaseEstimator, RegressorMixin\n",
        "\n",
        "from skopt import BayesSearchCV\n",
        "from skopt.space import Categorical, Real, Integer"
      ],
      "metadata": {
        "id": "f5fCt2zoIuJW"
      },
      "execution_count": null,
      "outputs": []
    },
    {
      "cell_type": "code",
      "source": [
        "# Cargar el dataset\n",
        "df = pd.read_csv('/content/AmesHousing.csv')  # Reemplaza con la ruta real"
      ],
      "metadata": {
        "id": "vQ9uCZYeajH4"
      },
      "execution_count": null,
      "outputs": []
    },
    {
      "cell_type": "markdown",
      "source": [
        "#Limpieza base de datos"
      ],
      "metadata": {
        "id": "VXMTbxmVvmbL"
      }
    },
    {
      "cell_type": "markdown",
      "source": [
        "##Numeric Features"
      ],
      "metadata": {
        "id": "-1I74_8JJKAs"
      }
    },
    {
      "cell_type": "code",
      "execution_count": null,
      "metadata": {
        "colab": {
          "base_uri": "https://localhost:8080/"
        },
        "id": "G-YOZf4qvcqx",
        "outputId": "7488800d-ca67-4fd4-90ec-3b6c8c756470"
      },
      "outputs": [
        {
          "output_type": "stream",
          "name": "stderr",
          "text": [
            "<ipython-input-4-c58525b68492>:13: FutureWarning: A value is trying to be set on a copy of a DataFrame or Series through chained assignment using an inplace method.\n",
            "The behavior will change in pandas 3.0. This inplace method will never work because the intermediate object on which we are setting values always behaves as a copy.\n",
            "\n",
            "For example, when doing 'df[col].method(value, inplace=True)', try using 'df.method({col: value}, inplace=True)' or df[col] = df[col].method(value) instead, to perform the operation inplace on the original object.\n",
            "\n",
            "\n",
            "  df[col].fillna(df[col].median(), inplace=True)\n",
            "<ipython-input-4-c58525b68492>:19: FutureWarning: A value is trying to be set on a copy of a DataFrame or Series through chained assignment using an inplace method.\n",
            "The behavior will change in pandas 3.0. This inplace method will never work because the intermediate object on which we are setting values always behaves as a copy.\n",
            "\n",
            "For example, when doing 'df[col].method(value, inplace=True)', try using 'df.method({col: value}, inplace=True)' or df[col] = df[col].method(value) instead, to perform the operation inplace on the original object.\n",
            "\n",
            "\n",
            "  df[col].fillna(df[col].mode()[0], inplace=True)\n"
          ]
        }
      ],
      "source": [
        "# --- Paso 1: Manejo de valores faltantes ---\n",
        "\n",
        "# 1.1 Eliminar columnas con más del 65% de valores faltantes\n",
        "missing_threshold = 0.65\n",
        "missing_ratio = df.isnull().mean()\n",
        "cols_to_drop = missing_ratio[missing_ratio > missing_threshold].index\n",
        "df = df.drop(columns=cols_to_drop)\n",
        "\n",
        "# 1.2 Rellenar numéricas con la mediana\n",
        "num_cols = df.select_dtypes(include=['number']).columns\n",
        "for col in num_cols:\n",
        "    if df[col].isnull().sum() > 0:\n",
        "        df[col].fillna(df[col].median(), inplace=True)\n",
        "\n",
        "# 1.3 Rellenar categóricas con la moda\n",
        "cat_cols = df.select_dtypes(include=['object', 'category', 'string']).columns\n",
        "for col in cat_cols:\n",
        "    if df[col].isnull().sum() > 0:\n",
        "        df[col].fillna(df[col].mode()[0], inplace=True)\n",
        "\n",
        "# --- Paso 2: Separación de variables ---\n",
        "\n",
        "# 2.1 Variables numéricas\n",
        "X_num = df.select_dtypes(include=['number']).copy()\n",
        "if 'SalePrice' not in X_num.columns:\n",
        "    raise ValueError(\"La columna 'SalePrice' no se encuentra en las variables numéricas.\")\n",
        "\n",
        "# Calcular correlación con la variable objetivo\n",
        "correlations = X_num.corr()['SalePrice']\n",
        "relevant_num_features = correlations[(correlations.abs() > 0.25) & (correlations.index != 'SalePrice')].index\n",
        "\n",
        "# Filtrar el dataframe numérico\n",
        "X_num_filtered = X_num[relevant_num_features]\n",
        "\n",
        "# 2.2 Variables categóricas\n",
        "X_cat = df.select_dtypes(include=['object', 'category', 'string']).copy()"
      ]
    },
    {
      "cell_type": "markdown",
      "source": [
        "##Categorical features"
      ],
      "metadata": {
        "id": "aeWInzbSJNv7"
      }
    },
    {
      "cell_type": "code",
      "source": [
        "# Inicializamos contenedores\n",
        "X_cat_binary = pd.DataFrame(index=df.index)\n",
        "X_cat_ordinal = pd.DataFrame(index=df.index)\n",
        "\n",
        "for col in X_cat.columns:\n",
        "    unique_vals = X_cat[col].nunique()\n",
        "\n",
        "    if unique_vals == 2:\n",
        "        # --- Codificación binaria personalizada ---\n",
        "        means = df.groupby(col)['SalePrice'].mean().sort_values()\n",
        "        top_category = means.idxmax()\n",
        "        encoding_map = {top_category: 1}\n",
        "        encoded = X_cat[col].map(lambda x: encoding_map.get(x, 0))\n",
        "        X_cat_binary[col + \"_bin\"] = encoded\n",
        "\n",
        "        print(f\"\\n[Binary Encoding] {col}:\")\n",
        "        print(f\"Categoría con mayor SalePrice: {top_category}\")\n",
        "        print(encoded.head())\n",
        "\n",
        "    elif unique_vals > 2:\n",
        "        # --- Ordinal Encoding basado en SalePrice promedio ---\n",
        "        means = df.groupby(col)['SalePrice'].mean().sort_values()\n",
        "        encoding_map = {cat: rank for rank, cat in enumerate(means.index, start=1)}\n",
        "        encoded = X_cat[col].map(encoding_map)\n",
        "        X_cat_ordinal[col + \"_ord\"] = encoded\n",
        "\n",
        "        print(f\"\\n[Ordinal Encoding] {col}:\")\n",
        "        print(f\"Mapeo de valores:\\n{encoding_map}\")\n",
        "        print(encoded.head())\n"
      ],
      "metadata": {
        "colab": {
          "base_uri": "https://localhost:8080/"
        },
        "id": "LO9E7H--JRPX",
        "outputId": "b92513eb-fd00-43a2-f8c5-e5562ab9c69a"
      },
      "execution_count": null,
      "outputs": [
        {
          "output_type": "stream",
          "name": "stdout",
          "text": [
            "\n",
            "[Ordinal Encoding] MS Zoning:\n",
            "Mapeo de valores:\n",
            "{'A (agr)': 1, 'C (all)': 2, 'I (all)': 3, 'RM': 4, 'RH': 5, 'RL': 6, 'FV': 7}\n",
            "0    6\n",
            "1    5\n",
            "2    6\n",
            "3    6\n",
            "4    6\n",
            "Name: MS Zoning, dtype: int64\n",
            "\n",
            "[Binary Encoding] Street:\n",
            "Categoría con mayor SalePrice: Pave\n",
            "0    1\n",
            "1    1\n",
            "2    1\n",
            "3    1\n",
            "4    1\n",
            "Name: Street, dtype: int64\n",
            "\n",
            "[Ordinal Encoding] Lot Shape:\n",
            "Mapeo de valores:\n",
            "{'Reg': 1, 'IR1': 2, 'IR3': 3, 'IR2': 4}\n",
            "0    2\n",
            "1    1\n",
            "2    2\n",
            "3    1\n",
            "4    2\n",
            "Name: Lot Shape, dtype: int64\n",
            "\n",
            "[Ordinal Encoding] Land Contour:\n",
            "Mapeo de valores:\n",
            "{'Bnk': 1, 'Lvl': 2, 'Low': 3, 'HLS': 4}\n",
            "0    2\n",
            "1    2\n",
            "2    2\n",
            "3    2\n",
            "4    2\n",
            "Name: Land Contour, dtype: int64\n",
            "\n",
            "[Ordinal Encoding] Utilities:\n",
            "Mapeo de valores:\n",
            "{'NoSewr': 1, 'NoSeWa': 2, 'AllPub': 3}\n",
            "0    3\n",
            "1    3\n",
            "2    3\n",
            "3    3\n",
            "4    3\n",
            "Name: Utilities, dtype: int64\n",
            "\n",
            "[Ordinal Encoding] Lot Config:\n",
            "Mapeo de valores:\n",
            "{'FR2': 1, 'Inside': 2, 'Corner': 3, 'FR3': 4, 'CulDSac': 5}\n",
            "0    3\n",
            "1    2\n",
            "2    3\n",
            "3    3\n",
            "4    2\n",
            "Name: Lot Config, dtype: int64\n",
            "\n",
            "[Ordinal Encoding] Land Slope:\n",
            "Mapeo de valores:\n",
            "{'Gtl': 1, 'Mod': 2, 'Sev': 3}\n",
            "0    1\n",
            "1    1\n",
            "2    1\n",
            "3    1\n",
            "4    1\n",
            "Name: Land Slope, dtype: int64\n",
            "\n",
            "[Ordinal Encoding] Neighborhood:\n",
            "Mapeo de valores:\n",
            "{'MeadowV': 1, 'IDOTRR': 2, 'BrDale': 3, 'OldTown': 4, 'BrkSide': 5, 'Edwards': 6, 'SWISU': 7, 'Sawyer': 8, 'Landmrk': 9, 'NPkVill': 10, 'Blueste': 11, 'NAmes': 12, 'Mitchel': 13, 'SawyerW': 14, 'NWAmes': 15, 'Gilbert': 16, 'Greens': 17, 'Blmngtn': 18, 'CollgCr': 19, 'Crawfor': 20, 'ClearCr': 21, 'Somerst': 22, 'Timber': 23, 'Veenker': 24, 'GrnHill': 25, 'NridgHt': 26, 'StoneBr': 27, 'NoRidge': 28}\n",
            "0    12\n",
            "1    12\n",
            "2    12\n",
            "3    12\n",
            "4    16\n",
            "Name: Neighborhood, dtype: int64\n",
            "\n",
            "[Ordinal Encoding] Condition 1:\n",
            "Mapeo de valores:\n",
            "{'Artery': 1, 'RRAe': 2, 'RRNe': 3, 'Feedr': 4, 'RRAn': 5, 'Norm': 6, 'RRNn': 7, 'PosN': 8, 'PosA': 9}\n",
            "0    6\n",
            "1    4\n",
            "2    6\n",
            "3    6\n",
            "4    6\n",
            "Name: Condition 1, dtype: int64\n",
            "\n",
            "[Ordinal Encoding] Condition 2:\n",
            "Mapeo de valores:\n",
            "{'RRNn': 1, 'Artery': 2, 'Feedr': 3, 'RRAn': 4, 'Norm': 5, 'RRAe': 6, 'PosN': 7, 'PosA': 8}\n",
            "0    5\n",
            "1    5\n",
            "2    5\n",
            "3    5\n",
            "4    5\n",
            "Name: Condition 2, dtype: int64\n",
            "\n",
            "[Ordinal Encoding] Bldg Type:\n",
            "Mapeo de valores:\n",
            "{'2fmCon': 1, 'Twnhs': 2, 'Duplex': 3, '1Fam': 4, 'TwnhsE': 5}\n",
            "0    4\n",
            "1    4\n",
            "2    4\n",
            "3    4\n",
            "4    4\n",
            "Name: Bldg Type, dtype: int64\n",
            "\n",
            "[Ordinal Encoding] House Style:\n",
            "Mapeo de valores:\n",
            "{'1.5Unf': 1, '1.5Fin': 2, 'SFoyer': 3, 'SLvl': 4, '2.5Unf': 5, '1Story': 6, '2Story': 7, '2.5Fin': 8}\n",
            "0    6\n",
            "1    6\n",
            "2    6\n",
            "3    6\n",
            "4    7\n",
            "Name: House Style, dtype: int64\n",
            "\n",
            "[Ordinal Encoding] Roof Style:\n",
            "Mapeo de valores:\n",
            "{'Gambrel': 1, 'Mansard': 2, 'Gable': 3, 'Flat': 4, 'Shed': 5, 'Hip': 6}\n",
            "0    6\n",
            "1    3\n",
            "2    6\n",
            "3    6\n",
            "4    3\n",
            "Name: Roof Style, dtype: int64\n",
            "\n",
            "[Ordinal Encoding] Roof Matl:\n",
            "Mapeo de valores:\n",
            "{'Roll': 1, 'ClyTile': 2, 'Metal': 3, 'CompShg': 4, 'Tar&Grv': 5, 'WdShake': 6, 'Membran': 7, 'WdShngl': 8}\n",
            "0    4\n",
            "1    4\n",
            "2    4\n",
            "3    4\n",
            "4    4\n",
            "Name: Roof Matl, dtype: int64\n",
            "\n",
            "[Ordinal Encoding] Exterior 1st:\n",
            "Mapeo de valores:\n",
            "{'AsphShn': 1, 'CBlock': 2, 'AsbShng': 3, 'BrkComm': 4, 'Wd Sdng': 5, 'Stucco': 6, 'WdShing': 7, 'MetalSd': 8, 'HdBoard': 9, 'Plywood': 10, 'BrkFace': 11, 'VinylSd': 12, 'CemntBd': 13, 'Stone': 14, 'PreCast': 15, 'ImStucc': 16}\n",
            "0    11\n",
            "1    12\n",
            "2     5\n",
            "3    11\n",
            "4    12\n",
            "Name: Exterior 1st, dtype: int64\n",
            "\n",
            "[Ordinal Encoding] Exterior 2nd:\n",
            "Mapeo de valores:\n",
            "{'AsbShng': 1, 'CBlock': 2, 'AsphShn': 3, 'Brk Cmn': 4, 'Stone': 5, 'Wd Sdng': 6, 'Stucco': 7, 'Wd Shng': 8, 'MetalSd': 9, 'HdBoard': 10, 'Plywood': 11, 'BrkFace': 12, 'VinylSd': 13, 'CmentBd': 14, 'ImStucc': 15, 'PreCast': 16, 'Other': 17}\n",
            "0    11\n",
            "1    13\n",
            "2     6\n",
            "3    12\n",
            "4    13\n",
            "Name: Exterior 2nd, dtype: int64\n",
            "\n",
            "[Ordinal Encoding] Mas Vnr Type:\n",
            "Mapeo de valores:\n",
            "{'CBlock': 1, 'BrkCmn': 2, 'BrkFace': 3, 'Stone': 4}\n",
            "0    4\n",
            "1    3\n",
            "2    3\n",
            "3    3\n",
            "4    3\n",
            "Name: Mas Vnr Type, dtype: int64\n",
            "\n",
            "[Ordinal Encoding] Exter Qual:\n",
            "Mapeo de valores:\n",
            "{'Fa': 1, 'TA': 2, 'Gd': 3, 'Ex': 4}\n",
            "0    2\n",
            "1    2\n",
            "2    2\n",
            "3    3\n",
            "4    2\n",
            "Name: Exter Qual, dtype: int64\n",
            "\n",
            "[Ordinal Encoding] Exter Cond:\n",
            "Mapeo de valores:\n",
            "{'Po': 1, 'Fa': 2, 'Gd': 3, 'TA': 4, 'Ex': 5}\n",
            "0    4\n",
            "1    4\n",
            "2    4\n",
            "3    4\n",
            "4    4\n",
            "Name: Exter Cond, dtype: int64\n",
            "\n",
            "[Ordinal Encoding] Foundation:\n",
            "Mapeo de valores:\n",
            "{'Slab': 1, 'BrkTil': 2, 'CBlock': 3, 'Stone': 4, 'Wood': 5, 'PConc': 6}\n",
            "0    3\n",
            "1    3\n",
            "2    3\n",
            "3    3\n",
            "4    6\n",
            "Name: Foundation, dtype: int64\n",
            "\n",
            "[Ordinal Encoding] Bsmt Qual:\n",
            "Mapeo de valores:\n",
            "{'Po': 1, 'Fa': 2, 'TA': 3, 'Gd': 4, 'Ex': 5}\n",
            "0    3\n",
            "1    3\n",
            "2    3\n",
            "3    3\n",
            "4    4\n",
            "Name: Bsmt Qual, dtype: int64\n",
            "\n",
            "[Ordinal Encoding] Bsmt Cond:\n",
            "Mapeo de valores:\n",
            "{'Fa': 1, 'Po': 2, 'TA': 3, 'Ex': 4, 'Gd': 5}\n",
            "0    5\n",
            "1    3\n",
            "2    3\n",
            "3    3\n",
            "4    3\n",
            "Name: Bsmt Cond, dtype: int64\n",
            "\n",
            "[Ordinal Encoding] Bsmt Exposure:\n",
            "Mapeo de valores:\n",
            "{'No': 1, 'Mn': 2, 'Av': 3, 'Gd': 4}\n",
            "0    4\n",
            "1    1\n",
            "2    1\n",
            "3    1\n",
            "4    1\n",
            "Name: Bsmt Exposure, dtype: int64\n",
            "\n",
            "[Ordinal Encoding] BsmtFin Type 1:\n",
            "Mapeo de valores:\n",
            "{'Rec': 1, 'BLQ': 2, 'LwQ': 3, 'ALQ': 4, 'Unf': 5, 'GLQ': 6}\n",
            "0    2\n",
            "1    1\n",
            "2    4\n",
            "3    4\n",
            "4    6\n",
            "Name: BsmtFin Type 1, dtype: int64\n",
            "\n",
            "[Ordinal Encoding] BsmtFin Type 2:\n",
            "Mapeo de valores:\n",
            "{'BLQ': 1, 'Rec': 2, 'LwQ': 3, 'Unf': 4, 'ALQ': 5, 'GLQ': 6}\n",
            "0    4\n",
            "1    3\n",
            "2    4\n",
            "3    4\n",
            "4    4\n",
            "Name: BsmtFin Type 2, dtype: int64\n",
            "\n",
            "[Ordinal Encoding] Heating:\n",
            "Mapeo de valores:\n",
            "{'Floor': 1, 'Wall': 2, 'Grav': 3, 'OthW': 4, 'GasW': 5, 'GasA': 6}\n",
            "0    6\n",
            "1    6\n",
            "2    6\n",
            "3    6\n",
            "4    6\n",
            "Name: Heating, dtype: int64\n",
            "\n",
            "[Ordinal Encoding] Heating QC:\n",
            "Mapeo de valores:\n",
            "{'Po': 1, 'Fa': 2, 'TA': 3, 'Gd': 4, 'Ex': 5}\n",
            "0    2\n",
            "1    3\n",
            "2    3\n",
            "3    5\n",
            "4    4\n",
            "Name: Heating QC, dtype: int64\n",
            "\n",
            "[Binary Encoding] Central Air:\n",
            "Categoría con mayor SalePrice: Y\n",
            "0    1\n",
            "1    1\n",
            "2    1\n",
            "3    1\n",
            "4    1\n",
            "Name: Central Air, dtype: int64\n",
            "\n",
            "[Ordinal Encoding] Electrical:\n",
            "Mapeo de valores:\n",
            "{'Mix': 1, 'FuseP': 2, 'FuseF': 3, 'FuseA': 4, 'SBrkr': 5}\n",
            "0    5\n",
            "1    5\n",
            "2    5\n",
            "3    5\n",
            "4    5\n",
            "Name: Electrical, dtype: int64\n",
            "\n",
            "[Ordinal Encoding] Kitchen Qual:\n",
            "Mapeo de valores:\n",
            "{'Fa': 1, 'Po': 2, 'TA': 3, 'Gd': 4, 'Ex': 5}\n",
            "0    3\n",
            "1    3\n",
            "2    4\n",
            "3    5\n",
            "4    3\n",
            "Name: Kitchen Qual, dtype: int64\n",
            "\n",
            "[Ordinal Encoding] Functional:\n",
            "Mapeo de valores:\n",
            "{'Sal': 1, 'Maj2': 2, 'Sev': 3, 'Min2': 4, 'Min1': 5, 'Mod': 6, 'Maj1': 7, 'Typ': 8}\n",
            "0    8\n",
            "1    8\n",
            "2    8\n",
            "3    8\n",
            "4    8\n",
            "Name: Functional, dtype: int64\n",
            "\n",
            "[Ordinal Encoding] Fireplace Qu:\n",
            "Mapeo de valores:\n",
            "{'Po': 1, 'Fa': 2, 'Gd': 3, 'TA': 4, 'Ex': 5}\n",
            "0    3\n",
            "1    3\n",
            "2    3\n",
            "3    4\n",
            "4    4\n",
            "Name: Fireplace Qu, dtype: int64\n",
            "\n",
            "[Ordinal Encoding] Garage Type:\n",
            "Mapeo de valores:\n",
            "{'CarPort': 1, 'Detchd': 2, 'Basment': 3, '2Types': 4, 'Attchd': 5, 'BuiltIn': 6}\n",
            "0    5\n",
            "1    5\n",
            "2    5\n",
            "3    5\n",
            "4    5\n",
            "Name: Garage Type, dtype: int64\n",
            "\n",
            "[Ordinal Encoding] Garage Finish:\n",
            "Mapeo de valores:\n",
            "{'Unf': 1, 'RFn': 2, 'Fin': 3}\n",
            "0    3\n",
            "1    1\n",
            "2    1\n",
            "3    3\n",
            "4    3\n",
            "Name: Garage Finish, dtype: int64\n",
            "\n",
            "[Ordinal Encoding] Garage Qual:\n",
            "Mapeo de valores:\n",
            "{'Po': 1, 'Fa': 2, 'TA': 3, 'Ex': 4, 'Gd': 5}\n",
            "0    3\n",
            "1    3\n",
            "2    3\n",
            "3    3\n",
            "4    3\n",
            "Name: Garage Qual, dtype: int64\n",
            "\n",
            "[Ordinal Encoding] Garage Cond:\n",
            "Mapeo de valores:\n",
            "{'Po': 1, 'Fa': 2, 'Ex': 3, 'TA': 4, 'Gd': 5}\n",
            "0    4\n",
            "1    4\n",
            "2    4\n",
            "3    4\n",
            "4    4\n",
            "Name: Garage Cond, dtype: int64\n",
            "\n",
            "[Ordinal Encoding] Paved Drive:\n",
            "Mapeo de valores:\n",
            "{'N': 1, 'P': 2, 'Y': 3}\n",
            "0    2\n",
            "1    3\n",
            "2    3\n",
            "3    3\n",
            "4    3\n",
            "Name: Paved Drive, dtype: int64\n",
            "\n",
            "[Ordinal Encoding] Sale Type:\n",
            "Mapeo de valores:\n",
            "{'Oth': 1, 'ConLw': 2, 'ConLD': 3, 'COD': 4, 'VWD': 5, 'WD ': 6, 'ConLI': 7, 'CWD': 8, 'Con': 9, 'New': 10}\n",
            "0    6\n",
            "1    6\n",
            "2    6\n",
            "3    6\n",
            "4    6\n",
            "Name: Sale Type, dtype: int64\n",
            "\n",
            "[Ordinal Encoding] Sale Condition:\n",
            "Mapeo de valores:\n",
            "{'AdjLand': 1, 'Abnorml': 2, 'Family': 3, 'Alloca': 4, 'Normal': 5, 'Partial': 6}\n",
            "0    5\n",
            "1    5\n",
            "2    5\n",
            "3    5\n",
            "4    5\n",
            "Name: Sale Condition, dtype: int64\n"
          ]
        }
      ]
    },
    {
      "cell_type": "code",
      "source": [
        "# Unir numéricas relevantes + categóricas codificadas\n",
        "X_final = pd.concat([X_num_filtered, X_cat_binary, X_cat_ordinal], axis=1)\n",
        "\n",
        "# Añadir la columna objetivo\n",
        "X_final['SalePrice'] = df['SalePrice']\n",
        "\n",
        "# Resumen\n",
        "print(\"\\n=== DataFrame final ===\")\n",
        "print(f\"Shape: {X_final.shape}\")\n",
        "print(X_final.info())"
      ],
      "metadata": {
        "colab": {
          "base_uri": "https://localhost:8080/"
        },
        "id": "pJKdZXG3MTYZ",
        "outputId": "4355db20-4748-4cc9-85a9-9e6973286d96"
      },
      "execution_count": null,
      "outputs": [
        {
          "output_type": "stream",
          "name": "stdout",
          "text": [
            "\n",
            "=== DataFrame final ===\n",
            "Shape: (2930, 61)\n",
            "<class 'pandas.core.frame.DataFrame'>\n",
            "RangeIndex: 2930 entries, 0 to 2929\n",
            "Data columns (total 61 columns):\n",
            " #   Column              Non-Null Count  Dtype  \n",
            "---  ------              --------------  -----  \n",
            " 0   Lot Frontage        2930 non-null   float64\n",
            " 1   Lot Area            2930 non-null   int64  \n",
            " 2   Overall Qual        2930 non-null   int64  \n",
            " 3   Year Built          2930 non-null   int64  \n",
            " 4   Year Remod/Add      2930 non-null   int64  \n",
            " 5   Mas Vnr Area        2930 non-null   float64\n",
            " 6   BsmtFin SF 1        2930 non-null   float64\n",
            " 7   Total Bsmt SF       2930 non-null   float64\n",
            " 8   1st Flr SF          2930 non-null   int64  \n",
            " 9   2nd Flr SF          2930 non-null   int64  \n",
            " 10  Gr Liv Area         2930 non-null   int64  \n",
            " 11  Bsmt Full Bath      2930 non-null   float64\n",
            " 12  Full Bath           2930 non-null   int64  \n",
            " 13  Half Bath           2930 non-null   int64  \n",
            " 14  TotRms AbvGrd       2930 non-null   int64  \n",
            " 15  Fireplaces          2930 non-null   int64  \n",
            " 16  Garage Yr Blt       2930 non-null   float64\n",
            " 17  Garage Cars         2930 non-null   float64\n",
            " 18  Garage Area         2930 non-null   float64\n",
            " 19  Wood Deck SF        2930 non-null   int64  \n",
            " 20  Open Porch SF       2930 non-null   int64  \n",
            " 21  Street_bin          2930 non-null   int64  \n",
            " 22  Central Air_bin     2930 non-null   int64  \n",
            " 23  MS Zoning_ord       2930 non-null   int64  \n",
            " 24  Lot Shape_ord       2930 non-null   int64  \n",
            " 25  Land Contour_ord    2930 non-null   int64  \n",
            " 26  Utilities_ord       2930 non-null   int64  \n",
            " 27  Lot Config_ord      2930 non-null   int64  \n",
            " 28  Land Slope_ord      2930 non-null   int64  \n",
            " 29  Neighborhood_ord    2930 non-null   int64  \n",
            " 30  Condition 1_ord     2930 non-null   int64  \n",
            " 31  Condition 2_ord     2930 non-null   int64  \n",
            " 32  Bldg Type_ord       2930 non-null   int64  \n",
            " 33  House Style_ord     2930 non-null   int64  \n",
            " 34  Roof Style_ord      2930 non-null   int64  \n",
            " 35  Roof Matl_ord       2930 non-null   int64  \n",
            " 36  Exterior 1st_ord    2930 non-null   int64  \n",
            " 37  Exterior 2nd_ord    2930 non-null   int64  \n",
            " 38  Mas Vnr Type_ord    2930 non-null   int64  \n",
            " 39  Exter Qual_ord      2930 non-null   int64  \n",
            " 40  Exter Cond_ord      2930 non-null   int64  \n",
            " 41  Foundation_ord      2930 non-null   int64  \n",
            " 42  Bsmt Qual_ord       2930 non-null   int64  \n",
            " 43  Bsmt Cond_ord       2930 non-null   int64  \n",
            " 44  Bsmt Exposure_ord   2930 non-null   int64  \n",
            " 45  BsmtFin Type 1_ord  2930 non-null   int64  \n",
            " 46  BsmtFin Type 2_ord  2930 non-null   int64  \n",
            " 47  Heating_ord         2930 non-null   int64  \n",
            " 48  Heating QC_ord      2930 non-null   int64  \n",
            " 49  Electrical_ord      2930 non-null   int64  \n",
            " 50  Kitchen Qual_ord    2930 non-null   int64  \n",
            " 51  Functional_ord      2930 non-null   int64  \n",
            " 52  Fireplace Qu_ord    2930 non-null   int64  \n",
            " 53  Garage Type_ord     2930 non-null   int64  \n",
            " 54  Garage Finish_ord   2930 non-null   int64  \n",
            " 55  Garage Qual_ord     2930 non-null   int64  \n",
            " 56  Garage Cond_ord     2930 non-null   int64  \n",
            " 57  Paved Drive_ord     2930 non-null   int64  \n",
            " 58  Sale Type_ord       2930 non-null   int64  \n",
            " 59  Sale Condition_ord  2930 non-null   int64  \n",
            " 60  SalePrice           2930 non-null   int64  \n",
            "dtypes: float64(8), int64(53)\n",
            "memory usage: 1.4 MB\n",
            "None\n"
          ]
        }
      ]
    },
    {
      "cell_type": "code",
      "source": [
        "# Seleccionar solo las variables categóricas codificadas (excluyendo SalePrice)\n",
        "X_cat_encoded = X_final.drop(columns=X_num_filtered.columns.tolist() + ['SalePrice'])\n",
        "\n",
        "# Calcular correlación con SalePrice\n",
        "correlations = X_cat_encoded.corrwith(X_final['SalePrice'])\n",
        "\n",
        "# Filtrar las que tienen |corr| > 0.25\n",
        "relevant_cat_features = correlations[correlations.abs() > 0.25].index.tolist()\n",
        "\n",
        "# Reconstruir X_final con:\n",
        "# - numéricas relevantes (X_num_filtered)\n",
        "# - categóricas codificadas relevantes\n",
        "# - SalePrice (target)\n",
        "X_final_filtered = pd.concat([\n",
        "    X_num_filtered,\n",
        "    X_cat_encoded[relevant_cat_features],\n",
        "    X_final[['SalePrice']]\n",
        "], axis=1)\n",
        "print(X_final_filtered)"
      ],
      "metadata": {
        "id": "S5klQYzoP21M",
        "colab": {
          "base_uri": "https://localhost:8080/"
        },
        "outputId": "be5be327-591c-4ceb-cd42-cc3182b5eb9a"
      },
      "execution_count": null,
      "outputs": [
        {
          "output_type": "stream",
          "name": "stdout",
          "text": [
            "      Lot Frontage  Lot Area  Overall Qual  Year Built  Year Remod/Add  \\\n",
            "0            141.0     31770             6        1960            1960   \n",
            "1             80.0     11622             5        1961            1961   \n",
            "2             81.0     14267             6        1958            1958   \n",
            "3             93.0     11160             7        1968            1968   \n",
            "4             74.0     13830             5        1997            1998   \n",
            "...            ...       ...           ...         ...             ...   \n",
            "2925          37.0      7937             6        1984            1984   \n",
            "2926          68.0      8885             5        1983            1983   \n",
            "2927          62.0     10441             5        1992            1992   \n",
            "2928          77.0     10010             5        1974            1975   \n",
            "2929          74.0      9627             7        1993            1994   \n",
            "\n",
            "      Mas Vnr Area  BsmtFin SF 1  Total Bsmt SF  1st Flr SF  2nd Flr SF  ...  \\\n",
            "0            112.0         639.0         1080.0        1656           0  ...   \n",
            "1              0.0         468.0          882.0         896           0  ...   \n",
            "2            108.0         923.0         1329.0        1329           0  ...   \n",
            "3              0.0        1065.0         2110.0        2110           0  ...   \n",
            "4              0.0         791.0          928.0         928         701  ...   \n",
            "...            ...           ...            ...         ...         ...  ...   \n",
            "2925           0.0         819.0         1003.0        1003           0  ...   \n",
            "2926           0.0         301.0          864.0         902           0  ...   \n",
            "2927           0.0         337.0          912.0         970           0  ...   \n",
            "2928           0.0        1071.0         1389.0        1389           0  ...   \n",
            "2929          94.0         758.0          996.0         996        1004  ...   \n",
            "\n",
            "      Bsmt Exposure_ord  BsmtFin Type 1_ord  Heating QC_ord  Kitchen Qual_ord  \\\n",
            "0                     4                   2               2                 3   \n",
            "1                     1                   1               3                 3   \n",
            "2                     1                   4               3                 4   \n",
            "3                     1                   4               5                 5   \n",
            "4                     1                   6               4                 3   \n",
            "...                 ...                 ...             ...               ...   \n",
            "2925                  3                   6               3                 3   \n",
            "2926                  3                   2               3                 3   \n",
            "2927                  3                   6               3                 3   \n",
            "2928                  3                   4               4                 3   \n",
            "2929                  3                   3               5                 3   \n",
            "\n",
            "      Garage Type_ord  Garage Finish_ord  Paved Drive_ord  Sale Type_ord  \\\n",
            "0                   5                  3                2              6   \n",
            "1                   5                  1                3              6   \n",
            "2                   5                  1                3              6   \n",
            "3                   5                  3                3              6   \n",
            "4                   5                  3                3              6   \n",
            "...               ...                ...              ...            ...   \n",
            "2925                2                  1                3              6   \n",
            "2926                5                  1                3              6   \n",
            "2927                5                  1                3              6   \n",
            "2928                5                  2                3              6   \n",
            "2929                5                  3                3              6   \n",
            "\n",
            "      Sale Condition_ord  SalePrice  \n",
            "0                      5     215000  \n",
            "1                      5     105000  \n",
            "2                      5     172000  \n",
            "3                      5     244000  \n",
            "4                      5     189900  \n",
            "...                  ...        ...  \n",
            "2925                   5     142500  \n",
            "2926                   5     131000  \n",
            "2927                   5     132000  \n",
            "2928                   5     170000  \n",
            "2929                   5     188000  \n",
            "\n",
            "[2930 rows x 43 columns]\n"
          ]
        }
      ]
    },
    {
      "cell_type": "markdown",
      "source": [
        "##Standard scaler"
      ],
      "metadata": {
        "id": "Kf0h6Ik2Za73"
      }
    },
    {
      "cell_type": "code",
      "source": [
        "# --- 1. Separar target ---\n",
        "y = X_final_filtered['SalePrice']\n",
        "X = X_final_filtered.drop(columns=['SalePrice'])\n",
        "\n",
        "# --- 2. Identificar columnas one-hot (solo contienen 0 y 1) ---\n",
        "one_hot_cols = [col for col in X.columns if set(X[col].unique()) <= {0, 1}]\n",
        "non_one_hot_cols = [col for col in X.columns if col not in one_hot_cols]\n",
        "\n",
        "# --- 3. Escalar solo las columnas no one-hot ---\n",
        "scaler = StandardScaler()\n",
        "X_scaled_part = pd.DataFrame(scaler.fit_transform(X[non_one_hot_cols]),\n",
        "                             columns=non_one_hot_cols,\n",
        "                             index=X.index)\n",
        "\n",
        "# --- 4. Unir columnas escaladas con las one-hot intactas ---\n",
        "X_final_scaled = pd.concat([X_scaled_part, X[one_hot_cols]], axis=1)\n",
        "\n",
        "# --- 5. Añadir nuevamente la variable objetivo ---\n",
        "X_final_scaled['SalePrice'] = y\n",
        "\n",
        "# Verificación\n",
        "print(f\"X_final_scaled.shape: {X_final_scaled.shape}\")"
      ],
      "metadata": {
        "colab": {
          "base_uri": "https://localhost:8080/"
        },
        "id": "svsey-46Ny2F",
        "outputId": "e46de9c1-31b5-48da-bbda-0be1d6bd6d59"
      },
      "execution_count": null,
      "outputs": [
        {
          "output_type": "stream",
          "name": "stdout",
          "text": [
            "X_final_scaled.shape: (2930, 43)\n"
          ]
        }
      ]
    },
    {
      "cell_type": "markdown",
      "source": [
        "##Outliers treatment"
      ],
      "metadata": {
        "id": "f-9jOpEFZfxx"
      }
    },
    {
      "cell_type": "code",
      "source": [
        "# --- 1. Separar X e y ---\n",
        "y = X_final_scaled['SalePrice']\n",
        "X = X_final_scaled.drop(columns=['SalePrice'])\n",
        "\n",
        "# --- 2. Columnas a excluir de outlier detection en X (ordinales y one-hot relevantes) ---\n",
        "cols_excluir = X_cat_encoded[relevant_cat_features].columns.tolist()\n",
        "\n",
        "# --- 3. Columnas numéricas puras donde aplicar IQR ---\n",
        "cols_outlier_check = [col for col in X.columns if col not in cols_excluir]\n",
        "\n",
        "# --- 4. Filtrado IQR en variables numéricas (X) ---\n",
        "Q1_X = X[cols_outlier_check].quantile(0.25)\n",
        "Q3_X = X[cols_outlier_check].quantile(0.75)\n",
        "IQR_X = Q3_X - Q1_X\n",
        "mask_X = ~((X[cols_outlier_check] < (Q1_X - 1.5 * IQR_X)) | (X[cols_outlier_check] > (Q3_X + 1.5 * IQR_X))).any(axis=1)\n",
        "\n",
        "# --- 5. Filtrado IQR en el target (y) ---\n",
        "Q1_y = y.quantile(0.25)\n",
        "Q3_y = y.quantile(0.75)\n",
        "IQR_y = Q3_y - Q1_y\n",
        "mask_y = (y >= (Q1_y - 1.5 * IQR_y)) & (y <= (Q3_y + 1.5 * IQR_y))\n",
        "\n",
        "# --- 6. Combinar ambas máscaras ---\n",
        "final_mask = mask_X & mask_y\n",
        "\n",
        "# --- 7. Filtrar datos finales ---\n",
        "X_clean = X[final_mask]\n",
        "y_clean = y[final_mask]\n",
        "X_final_cleaned = pd.concat([X_clean, y_clean], axis=1)\n",
        "\n",
        "# --- 8. Verificación ---\n",
        "print(f\"Original: {X.shape[0]} filas\")\n",
        "print(f\"Después de quitar outliers en X: {mask_X.sum()} filas\")\n",
        "print(f\"Después de quitar outliers en y: {mask_y.sum()} filas\")\n",
        "print(f\"Filas finales después de ambos filtros: {final_mask.sum()} filas\")\n"
      ],
      "metadata": {
        "colab": {
          "base_uri": "https://localhost:8080/"
        },
        "id": "Kgmnai8WPzd-",
        "outputId": "7c488459-3101-4de1-8788-168476058656"
      },
      "execution_count": null,
      "outputs": [
        {
          "output_type": "stream",
          "name": "stdout",
          "text": [
            "Original: 2930 filas\n",
            "Después de quitar outliers en X: 2125 filas\n",
            "Después de quitar outliers en y: 2793 filas\n",
            "Filas finales después de ambos filtros: 2099 filas\n"
          ]
        }
      ]
    },
    {
      "cell_type": "markdown",
      "source": [
        "#LinearRegresor"
      ],
      "metadata": {
        "id": "BEWtcDAMSzzl"
      }
    },
    {
      "cell_type": "markdown",
      "source": [
        "##Grid Search"
      ],
      "metadata": {
        "id": "_ui8XeIHSPQa"
      }
    },
    {
      "cell_type": "code",
      "source": [
        "# === 1. Separar X e y ===\n",
        "X = X_final_cleaned.drop(columns=['SalePrice'])\n",
        "y = X_final_cleaned['SalePrice']\n",
        "\n",
        "# === 2. Definir modelo base y parámetros (en LinearRegression hay pocos) ===\n",
        "model = LinearRegression()\n",
        "param_grid = {\n",
        "    'fit_intercept': [True, False],\n",
        "    'positive': [True, False]\n",
        "}\n",
        "\n",
        "# === 3. Métricas personalizadas ===\n",
        "scoring = {\n",
        "    'MAE': make_scorer(mean_absolute_error),\n",
        "    'MSE': make_scorer(mean_squared_error),\n",
        "    'R2': make_scorer(r2_score),\n",
        "    'MAPE': make_scorer(mean_absolute_percentage_error)\n",
        "}\n",
        "\n",
        "# === 4. Validación cruzada y GridSearch ===\n",
        "cv = KFold(n_splits=5, shuffle=True, random_state=42)\n",
        "grid = GridSearchCV(model, param_grid, cv=cv, scoring=scoring, refit='R2', return_train_score=True)\n",
        "\n",
        "# === 5. Entrenamiento ===\n",
        "grid.fit(X, y)\n",
        "\n",
        "# === 6. Resultados de la mejor combinación ===\n",
        "best_model = grid.best_estimator_\n",
        "print(\"Mejores hiperparámetros:\", grid.best_params_)\n",
        "\n",
        "# === 7. Validación cruzada con el mejor modelo ===\n",
        "results = cross_validate(best_model, X, y, cv=cv, scoring=scoring)\n",
        "\n",
        "# === 8. Mostrar métricas promedio ===\n",
        "print(\"\\n=== Métricas promedio (5-fold CV) ===\")\n",
        "for metric in scoring:\n",
        "    scores = results[f'test_{metric}']\n",
        "    print(f\"{metric}: {np.mean(scores):.4f} ± {np.std(scores):.4f}\")"
      ],
      "metadata": {
        "colab": {
          "base_uri": "https://localhost:8080/"
        },
        "id": "5ry7SUbzS42-",
        "outputId": "5bda36b3-018a-4857-df57-a4b66fd0ca0b"
      },
      "execution_count": null,
      "outputs": [
        {
          "output_type": "stream",
          "name": "stdout",
          "text": [
            "Mejores hiperparámetros: {'fit_intercept': True, 'positive': True}\n",
            "\n",
            "=== Métricas promedio (5-fold CV) ===\n",
            "MAE: 13512.9618 ± 318.4346\n",
            "MSE: 321524363.7459 ± 31671930.7512\n",
            "R2: 0.8899 ± 0.0090\n",
            "MAPE: 0.0917 ± 0.0057\n"
          ]
        }
      ]
    },
    {
      "cell_type": "markdown",
      "source": [
        "##Bayesian Optimization"
      ],
      "metadata": {
        "id": "yundmLv3SSk_"
      }
    },
    {
      "cell_type": "code",
      "source": [
        "# Definir espacio de búsqueda\n",
        "search_spaces = {\n",
        "    'fit_intercept': Categorical([True, False]),\n",
        "    'positive': Categorical([True, False])\n",
        "}\n",
        "\n",
        "# Optimizador bayesiano\n",
        "opt = BayesSearchCV(\n",
        "    estimator=model,\n",
        "    search_spaces=search_spaces,\n",
        "    scoring='r2',  # Usamos R2 como métrica principal\n",
        "    cv=cv,\n",
        "    n_iter=10,\n",
        "    n_jobs=-1,\n",
        "    refit=True,\n",
        "    random_state=42\n",
        ")\n",
        "\n",
        "# Entrenamiento\n",
        "opt.fit(X, y)\n",
        "\n",
        "# Mejor modelo\n",
        "best_model = opt.best_estimator_\n",
        "print(\"Mejores hiperparámetros (BayesSearchCV):\", opt.best_params_)\n",
        "\n",
        "# Validación cruzada con el mejor modelo y métricas\n",
        "results = cross_validate(best_model, X, y, cv=cv, scoring=scoring)\n",
        "\n",
        "# Resultados promedio\n",
        "print(\"\\n=== Métricas promedio (5-fold CV con BayesSearchCV) ===\")\n",
        "for metric in scoring:\n",
        "    scores = results[f'test_{metric}']\n",
        "    print(f\"{metric}: {np.mean(scores):.4f} ± {np.std(scores):.4f}\")"
      ],
      "metadata": {
        "colab": {
          "base_uri": "https://localhost:8080/"
        },
        "id": "tYeVGhHzSdmQ",
        "outputId": "56b249c1-55c1-4f52-83d8-03208fcbe660"
      },
      "execution_count": null,
      "outputs": [
        {
          "output_type": "stream",
          "name": "stdout",
          "text": [
            "Mejores hiperparámetros (BayesSearchCV): OrderedDict([('fit_intercept', True), ('positive', False)])\n",
            "\n",
            "=== Métricas promedio (5-fold CV con BayesSearchCV) ===\n",
            "MAE: 13548.8639 ± 283.6849\n",
            "MSE: 321805908.7574 ± 29636529.0437\n",
            "R2: 0.8898 ± 0.0080\n",
            "MAPE: 0.0925 ± 0.0057\n"
          ]
        }
      ]
    },
    {
      "cell_type": "markdown",
      "source": [
        "#Lasso"
      ],
      "metadata": {
        "id": "Wy8Yj31HTZUa"
      }
    },
    {
      "cell_type": "markdown",
      "source": [
        "##Grid Search"
      ],
      "metadata": {
        "id": "WiZGpwNLWBqg"
      }
    },
    {
      "cell_type": "code",
      "source": [
        "# === 2. Definir modelo y espacio de búsqueda ===\n",
        "model = Lasso(max_iter=10000)\n",
        "param_grid = {\n",
        "    'alpha': [0.001, 0.01, 0.1, 1.0, 10.0, 100.0]\n",
        "}\n",
        "\n",
        "# === 3. Definir métricas personalizadas ===\n",
        "scoring = {\n",
        "    'MAE': make_scorer(mean_absolute_error),\n",
        "    'MSE': make_scorer(mean_squared_error),\n",
        "    'R2': make_scorer(r2_score),\n",
        "    'MAPE': make_scorer(mean_absolute_percentage_error)\n",
        "}\n",
        "\n",
        "# === 4. Validación cruzada y búsqueda de hiperparámetros ===\n",
        "cv = KFold(n_splits=5, shuffle=True, random_state=42)\n",
        "grid = GridSearchCV(model, param_grid, scoring='r2', cv=cv, refit=True, n_jobs=-1)\n",
        "\n",
        "# === 5. Entrenamiento ===\n",
        "grid.fit(X, y)\n",
        "\n",
        "# === 6. Mejor modelo ===\n",
        "best_model = grid.best_estimator_\n",
        "print(\"Mejor alpha encontrado:\", grid.best_params_['alpha'])\n",
        "\n",
        "# === 7. Evaluación cruzada con métricas ===\n",
        "results = cross_validate(best_model, X, y, cv=cv, scoring=scoring)\n",
        "\n",
        "print(\"\\n=== Métricas promedio (5-fold CV con Lasso) ===\")\n",
        "for metric in scoring:\n",
        "    print(f\"{metric}: {np.mean(results[f'test_{metric}']):.4f} ± {np.std(results[f'test_{metric}']):.4f}\")\n"
      ],
      "metadata": {
        "colab": {
          "base_uri": "https://localhost:8080/"
        },
        "id": "WyJZwHWQTdMC",
        "outputId": "0e6e5430-fcc4-4b9b-d9d3-ac6e6f81b0fb"
      },
      "execution_count": null,
      "outputs": [
        {
          "output_type": "stream",
          "name": "stdout",
          "text": [
            "Mejor alpha encontrado: 10.0\n",
            "\n",
            "=== Métricas promedio (5-fold CV con Lasso) ===\n",
            "MAE: 13550.3548 ± 282.6150\n",
            "MSE: 321749439.2554 ± 29606567.0558\n",
            "R2: 0.8899 ± 0.0080\n",
            "MAPE: 0.0925 ± 0.0057\n"
          ]
        }
      ]
    },
    {
      "cell_type": "markdown",
      "source": [
        "##Random Search"
      ],
      "metadata": {
        "id": "Q38uEVTVULUo"
      }
    },
    {
      "cell_type": "code",
      "source": [
        "# === 3. Espacio de búsqueda para alpha (escala logarítmica) ===\n",
        "param_dist = {\n",
        "    'alpha': loguniform(1e-4, 1e2)  # Entre 0.0001 y 100\n",
        "}\n",
        "\n",
        "# === 5. Configuración de validación cruzada ===\n",
        "cv = KFold(n_splits=5, shuffle=True, random_state=42)\n",
        "\n",
        "# === 6. Búsqueda aleatoria ===\n",
        "random_search = RandomizedSearchCV(\n",
        "    estimator=model,\n",
        "    param_distributions=param_dist,\n",
        "    n_iter=20,  # Puedes ajustar el número de combinaciones aleatorias\n",
        "    scoring='r2',\n",
        "    cv=cv,\n",
        "    random_state=42,\n",
        "    n_jobs=-1\n",
        ")\n",
        "\n",
        "# === 7. Entrenamiento ===\n",
        "random_search.fit(X, y)\n",
        "best_model = random_search.best_estimator_\n",
        "\n",
        "print(\"Mejor alpha encontrado:\", random_search.best_params_['alpha'])\n",
        "\n",
        "# === 8. Evaluación con métricas personalizadas ===\n",
        "results = cross_validate(best_model, X, y, cv=cv, scoring=scoring)\n",
        "\n",
        "print(\"\\n=== Métricas promedio (5-fold CV con RandomizedSearchCV Lasso) ===\")\n",
        "for metric in scoring:\n",
        "    print(f\"{metric}: {np.mean(results[f'test_{metric}']):.4f} ± {np.std(results[f'test_{metric}']):.4f}\")"
      ],
      "metadata": {
        "colab": {
          "base_uri": "https://localhost:8080/"
        },
        "id": "Jt1kcGewVT9a",
        "outputId": "b9c2fc83-f6bf-4061-9412-49dee8c0d7f0"
      },
      "execution_count": null,
      "outputs": [
        {
          "output_type": "stream",
          "name": "stdout",
          "text": [
            "Mejor alpha encontrado: 15.741890047456648\n",
            "\n",
            "=== Métricas promedio (5-fold CV con RandomizedSearchCV Lasso) ===\n",
            "MAE: 13551.7551 ± 282.4666\n",
            "MSE: 321743353.7256 ± 29607108.0226\n",
            "R2: 0.8899 ± 0.0080\n",
            "MAPE: 0.0925 ± 0.0057\n"
          ]
        }
      ]
    },
    {
      "cell_type": "markdown",
      "source": [
        "##Bayesian Optimization"
      ],
      "metadata": {
        "id": "pam4mkwoWIP9"
      }
    },
    {
      "cell_type": "code",
      "source": [
        "# === 3. Espacio de búsqueda para alpha (escala logarítmica)\n",
        "search_spaces = {\n",
        "    'alpha': Real(1e-4, 1e2, prior='log-uniform')\n",
        "}\n",
        "\n",
        "# === 5. Validación cruzada ===\n",
        "cv = KFold(n_splits=5, shuffle=True, random_state=42)\n",
        "\n",
        "# === 6. Optimizador Bayesiano con Proceso Gaussiano ===\n",
        "opt = BayesSearchCV(\n",
        "    estimator=model,\n",
        "    search_spaces=search_spaces,\n",
        "    n_iter=25,  # número de iteraciones de la búsqueda bayesiana\n",
        "    cv=cv,\n",
        "    scoring='r2',\n",
        "    n_jobs=-1,\n",
        "    refit=True,\n",
        "    random_state=42\n",
        ")\n",
        "\n",
        "# === 7. Entrenamiento ===\n",
        "opt.fit(X, y)\n",
        "best_model = opt.best_estimator_\n",
        "\n",
        "print(\"Mejor alpha encontrado (BayesSearchCV):\", opt.best_params_['alpha'])\n",
        "\n",
        "# === 8. Evaluación con métricas personalizadas ===\n",
        "results = cross_validate(best_model, X, y, cv=cv, scoring=scoring)\n",
        "\n",
        "print(\"\\n=== Métricas promedio (5-fold CV con BayesSearchCV Lasso) ===\")\n",
        "for metric in scoring:\n",
        "    print(f\"{metric}: {np.mean(results[f'test_{metric}']):.4f} ± {np.std(results[f'test_{metric}']):.4f}\")"
      ],
      "metadata": {
        "colab": {
          "base_uri": "https://localhost:8080/"
        },
        "id": "NNyB50xRWLkZ",
        "outputId": "8ce3a65a-5f8e-4eb3-9c51-a58f52634784"
      },
      "execution_count": null,
      "outputs": [
        {
          "output_type": "stream",
          "name": "stdout",
          "text": [
            "Mejor alpha encontrado (BayesSearchCV): 13.316370182259133\n",
            "\n",
            "=== Métricas promedio (5-fold CV con BayesSearchCV Lasso) ===\n",
            "MAE: 13551.1413 ± 282.5111\n",
            "MSE: 321742705.4293 ± 29604350.9970\n",
            "R2: 0.8899 ± 0.0080\n",
            "MAPE: 0.0925 ± 0.0057\n"
          ]
        }
      ]
    },
    {
      "cell_type": "markdown",
      "source": [
        "#KernerRidge"
      ],
      "metadata": {
        "id": "usANHQTaY4b0"
      }
    },
    {
      "cell_type": "markdown",
      "source": [
        "##Grid Search"
      ],
      "metadata": {
        "id": "7lI5A-odY7yW"
      }
    },
    {
      "cell_type": "code",
      "source": [
        "# === 2. Definir modelo base ===\n",
        "model = KernelRidge()\n",
        "\n",
        "# === 3. Espacio de búsqueda para GridSearchCV ===\n",
        "param_grid = {\n",
        "    'alpha': [0.001, 0.01, 0.1, 1, 10],\n",
        "    'kernel': ['linear', 'rbf', 'poly'],\n",
        "    'degree': [2, 3],           # solo aplica a kernel='poly'\n",
        "    'gamma': [0.01, 0.1, 1]     # aplica a 'rbf' y 'poly'\n",
        "}\n",
        "\n",
        "# === 4. Definir métricas personalizadas ===\n",
        "scoring = {\n",
        "    'MAE': make_scorer(mean_absolute_error),\n",
        "    'MSE': make_scorer(mean_squared_error),\n",
        "    'R2': make_scorer(r2_score),\n",
        "    'MAPE': make_scorer(mean_absolute_percentage_error)\n",
        "}\n",
        "\n",
        "# === 5. Validación cruzada y búsqueda de hiperparámetros ===\n",
        "cv = KFold(n_splits=5, shuffle=True, random_state=42)\n",
        "grid = GridSearchCV(model, param_grid, scoring='r2', cv=cv, n_jobs=-1, refit=True)\n",
        "\n",
        "# === 6. Entrenamiento ===\n",
        "grid.fit(X, y)\n",
        "\n",
        "# === 7. Mejor modelo ===\n",
        "best_model = grid.best_estimator_\n",
        "print(\"Mejores hiperparámetros encontrados:\")\n",
        "print(grid.best_params_)\n",
        "\n",
        "# === 8. Evaluación con métricas personalizadas ===\n",
        "results = cross_validate(best_model, X, y, cv=cv, scoring=scoring)\n",
        "\n",
        "print(\"\\n=== Métricas promedio (5-fold CV con Kernel Ridge) ===\")\n",
        "for metric in scoring:\n",
        "    print(f\"{metric}: {np.mean(results[f'test_{metric}']):.4f} ± {np.std(results[f'test_{metric}']):.4f}\")"
      ],
      "metadata": {
        "colab": {
          "base_uri": "https://localhost:8080/"
        },
        "id": "mMyl5jyuY9a1",
        "outputId": "009f57bf-6640-473f-9401-01ca1ad8e279"
      },
      "execution_count": null,
      "outputs": [
        {
          "output_type": "stream",
          "name": "stdout",
          "text": [
            "Mejores hiperparámetros encontrados:\n",
            "{'alpha': 1, 'degree': 3, 'gamma': 0.01, 'kernel': 'poly'}\n",
            "\n",
            "=== Métricas promedio (5-fold CV con Kernel Ridge) ===\n",
            "MAE: 11617.8672 ± 359.1808\n",
            "MSE: 256925191.2970 ± 24693271.0367\n",
            "R2: 0.9120 ± 0.0074\n",
            "MAPE: 0.0804 ± 0.0041\n"
          ]
        }
      ]
    },
    {
      "cell_type": "markdown",
      "source": [
        "##Random Search"
      ],
      "metadata": {
        "id": "t3OdBEMiaTz3"
      }
    },
    {
      "cell_type": "code",
      "source": [
        "# === 3. Espacio de búsqueda para RandomSearch ===\n",
        "param_dist = {\n",
        "    'alpha': uniform(1e-3, 1e2),  # valores entre 0.001 y 100\n",
        "    'kernel': ['linear', 'rbf', 'poly'],\n",
        "    'degree': randint(2, 5),      # para 'poly'\n",
        "    'gamma': uniform(0.001, 1)    # para 'rbf' y 'poly'\n",
        "}\n",
        "\n",
        "# === 4. Métricas ===\n",
        "scoring = {\n",
        "    'MAE': make_scorer(mean_absolute_error),\n",
        "    'MSE': make_scorer(mean_squared_error),\n",
        "    'R2': make_scorer(r2_score),\n",
        "    'MAPE': make_scorer(mean_absolute_percentage_error)\n",
        "}\n",
        "\n",
        "# === 5. Validación cruzada ===\n",
        "cv = KFold(n_splits=5, shuffle=True, random_state=42)\n",
        "\n",
        "# === 6. Random Search ===\n",
        "random_search = RandomizedSearchCV(\n",
        "    estimator=model,\n",
        "    param_distributions=param_dist,\n",
        "    n_iter=30,\n",
        "    scoring='r2',\n",
        "    cv=cv,\n",
        "    random_state=42,\n",
        "    refit=True,\n",
        "    n_jobs=-1\n",
        ")\n",
        "\n",
        "# === 7. Entrenamiento ===\n",
        "random_search.fit(X, y)\n",
        "best_model = random_search.best_estimator_\n",
        "\n",
        "print(\"Mejores hiperparámetros encontrados (RandomSearchCV):\")\n",
        "print(random_search.best_params_)\n",
        "\n",
        "# === 8. Evaluación cruzada con el mejor modelo ===\n",
        "results = cross_validate(best_model, X, y, cv=cv, scoring=scoring)\n",
        "\n",
        "print(\"\\n=== Métricas promedio (5-fold CV con Kernel Ridge + RandomSearchCV) ===\")\n",
        "for metric in scoring:\n",
        "    print(f\"{metric}: {np.mean(results[f'test_{metric}']):.4f} ± {np.std(results[f'test_{metric}']):.4f}\")"
      ],
      "metadata": {
        "colab": {
          "base_uri": "https://localhost:8080/"
        },
        "id": "x8j5w4NkaWEN",
        "outputId": "dd7885af-a405-4cca-ddee-3b874184d2c1"
      },
      "execution_count": null,
      "outputs": [
        {
          "output_type": "stream",
          "name": "stdout",
          "text": [
            "Mejores hiperparámetros encontrados (RandomSearchCV):\n",
            "{'alpha': np.float64(43.93465018657701), 'degree': 4, 'gamma': np.float64(0.03242918568673425), 'kernel': 'poly'}\n",
            "\n",
            "=== Métricas promedio (5-fold CV con Kernel Ridge + RandomSearchCV) ===\n",
            "MAE: 13141.2932 ± 330.4325\n",
            "MSE: 334689719.4144 ± 36766279.7762\n",
            "R2: 0.8855 ± 0.0107\n",
            "MAPE: 0.0892 ± 0.0054\n"
          ]
        }
      ]
    },
    {
      "cell_type": "markdown",
      "source": [
        "##Bayesian Optimization"
      ],
      "metadata": {
        "id": "WXBkdpKIbHuk"
      }
    },
    {
      "cell_type": "code",
      "source": [
        "# === 3. Espacio de búsqueda bayesiano ===\n",
        "search_spaces = {\n",
        "    'alpha': Real(1e-3, 1e2, prior='log-uniform'),\n",
        "    'kernel': Categorical(['linear', 'rbf', 'poly']),\n",
        "    'degree': Integer(2, 5),              # solo se usará si kernel == 'poly'\n",
        "    'gamma': Real(1e-3, 1.0, prior='log-uniform')  # se usa en 'rbf' y 'poly'\n",
        "}\n",
        "\n",
        "# === 5. Validación cruzada ===\n",
        "cv = KFold(n_splits=5, shuffle=True, random_state=42)\n",
        "\n",
        "# === 6. Optimizador bayesiano ===\n",
        "opt = BayesSearchCV(\n",
        "    estimator=model,\n",
        "    search_spaces=search_spaces,\n",
        "    n_iter=30,  # puedes ajustar el número de iteraciones\n",
        "    scoring='r2',\n",
        "    cv=cv,\n",
        "    refit=True,\n",
        "    n_jobs=-1,\n",
        "    random_state=42\n",
        ")\n",
        "\n",
        "# === 7. Entrenamiento ===\n",
        "opt.fit(X, y)\n",
        "best_model = opt.best_estimator_\n",
        "\n",
        "print(\"Mejores hiperparámetros encontrados (BayesSearchCV):\")\n",
        "print(opt.best_params_)\n",
        "\n",
        "# === 8. Evaluación cruzada final ===\n",
        "results = cross_validate(best_model, X, y, cv=cv, scoring=scoring)\n",
        "\n",
        "print(\"\\n=== Métricas promedio (5-fold CV con Kernel Ridge + BayesSearchCV) ===\")\n",
        "for metric in scoring:\n",
        "    print(f\"{metric}: {np.mean(results[f'test_{metric}']):.4f} ± {np.std(results[f'test_{metric}']):.4f}\")"
      ],
      "metadata": {
        "colab": {
          "base_uri": "https://localhost:8080/"
        },
        "id": "TnKCElJTbJuT",
        "outputId": "b8e57b5d-273d-436d-ccb6-f29b8a6be73b"
      },
      "execution_count": null,
      "outputs": [
        {
          "output_type": "stream",
          "name": "stdout",
          "text": [
            "Mejores hiperparámetros encontrados (BayesSearchCV):\n",
            "OrderedDict([('alpha', 0.01587616205787679), ('degree', 4), ('gamma', 0.0014035050621349604), ('kernel', 'rbf')])\n",
            "\n",
            "=== Métricas promedio (5-fold CV con Kernel Ridge + BayesSearchCV) ===\n",
            "MAE: 11778.2662 ± 342.6849\n",
            "MSE: 259738037.6197 ± 23466436.8034\n",
            "R2: 0.9110 ± 0.0069\n",
            "MAPE: 0.0811 ± 0.0038\n"
          ]
        }
      ]
    },
    {
      "cell_type": "markdown",
      "source": [
        "#SGDRegressor"
      ],
      "metadata": {
        "id": "VoT3tZX6baJ7"
      }
    },
    {
      "cell_type": "markdown",
      "source": [
        "##Grid Search"
      ],
      "metadata": {
        "id": "ReQwoXONbc2k"
      }
    },
    {
      "cell_type": "code",
      "source": [
        "# === 2. Modelo base ===\n",
        "model = SGDRegressor(max_iter=1000, tol=1e-3, random_state=42)\n",
        "\n",
        "# === 3. Espacio de búsqueda (híperparámetros más relevantes para regresión) ===\n",
        "param_grid = {\n",
        "    'alpha': [1e-5, 1e-4, 1e-3, 1e-2],\n",
        "    'penalty': ['l2', 'l1', 'elasticnet'],\n",
        "    'loss': ['squared_error', 'huber'],\n",
        "    'l1_ratio': [0.15, 0.5, 0.9]  # solo usado cuando penalty='elasticnet'\n",
        "}\n",
        "\n",
        "# === 4. Métricas ===\n",
        "scoring = {\n",
        "    'MAE': make_scorer(mean_absolute_error),\n",
        "    'MSE': make_scorer(mean_squared_error),\n",
        "    'R2': make_scorer(r2_score),\n",
        "    'MAPE': make_scorer(mean_absolute_percentage_error)\n",
        "}\n",
        "\n",
        "# === 5. Validación cruzada ===\n",
        "cv = KFold(n_splits=5, shuffle=True, random_state=42)\n",
        "\n",
        "# === 6. Grid Search ===\n",
        "grid = GridSearchCV(\n",
        "    estimator=model,\n",
        "    param_grid=param_grid,\n",
        "    scoring='r2',\n",
        "    cv=cv,\n",
        "    n_jobs=-1,\n",
        "    refit=True\n",
        ")\n",
        "\n",
        "# === 7. Entrenamiento ===\n",
        "grid.fit(X, y)\n",
        "best_model = grid.best_estimator_\n",
        "\n",
        "print(\"Mejores hiperparámetros encontrados (GridSearchCV):\")\n",
        "print(grid.best_params_)\n",
        "\n",
        "# === 8. Evaluación final ===\n",
        "results = cross_validate(best_model, X, y, cv=cv, scoring=scoring)\n",
        "\n",
        "print(\"\\n=== Métricas promedio (5-fold CV con SGDRegressor + GridSearchCV) ===\")\n",
        "for metric in scoring:\n",
        "    print(f\"{metric}: {np.mean(results[f'test_{metric}']):.4f} ± {np.std(results[f'test_{metric}']):.4f}\")"
      ],
      "metadata": {
        "colab": {
          "base_uri": "https://localhost:8080/"
        },
        "id": "9ppzrLJ2beFi",
        "outputId": "6007c116-b95e-4679-f382-f81e0d2e6bef"
      },
      "execution_count": null,
      "outputs": [
        {
          "output_type": "stream",
          "name": "stdout",
          "text": [
            "Mejores hiperparámetros encontrados (GridSearchCV):\n",
            "{'alpha': 0.001, 'l1_ratio': 0.15, 'loss': 'squared_error', 'penalty': 'l2'}\n",
            "\n",
            "=== Métricas promedio (5-fold CV con SGDRegressor + GridSearchCV) ===\n",
            "MAE: 13536.8430 ± 310.4108\n",
            "MSE: 323917696.0276 ± 30801618.1587\n",
            "R2: 0.8891 ± 0.0085\n",
            "MAPE: 0.0923 ± 0.0059\n"
          ]
        }
      ]
    },
    {
      "cell_type": "markdown",
      "source": [
        "##Random Search"
      ],
      "metadata": {
        "id": "rywfBkKdb2So"
      }
    },
    {
      "cell_type": "code",
      "source": [
        "# === 3. Espacio de búsqueda aleatorio ===\n",
        "param_dist = {\n",
        "    'alpha': loguniform(1e-5, 1e-1),\n",
        "    'penalty': ['l2', 'l1', 'elasticnet'],\n",
        "    'loss': ['squared_error', 'huber'],\n",
        "    'l1_ratio': uniform(0.1, 0.9)  # solo se usa cuando penalty = 'elasticnet'\n",
        "}\n",
        "\n",
        "# === 5. Validación cruzada ===\n",
        "cv = KFold(n_splits=5, shuffle=True, random_state=42)\n",
        "\n",
        "# === 6. Random Search ===\n",
        "random_search = RandomizedSearchCV(\n",
        "    estimator=model,\n",
        "    param_distributions=param_dist,\n",
        "    n_iter=30,\n",
        "    scoring='r2',\n",
        "    cv=cv,\n",
        "    n_jobs=-1,\n",
        "    refit=True,\n",
        "    random_state=42\n",
        ")\n",
        "\n",
        "# === 7. Entrenamiento ===\n",
        "random_search.fit(X, y)\n",
        "best_model = random_search.best_estimator_\n",
        "\n",
        "print(\"Mejores hiperparámetros encontrados (RandomizedSearchCV):\")\n",
        "print(random_search.best_params_)\n",
        "\n",
        "# === 8. Evaluación cruzada ===\n",
        "results = cross_validate(best_model, X, y, cv=cv, scoring=scoring)\n",
        "\n",
        "print(\"\\n=== Métricas promedio (5-fold CV con SGDRegressor + RandomizedSearchCV) ===\")\n",
        "for metric in scoring:\n",
        "    print(f\"{metric}: {np.mean(results[f'test_{metric}']):.4f} ± {np.std(results[f'test_{metric}']):.4f}\")"
      ],
      "metadata": {
        "colab": {
          "base_uri": "https://localhost:8080/"
        },
        "id": "wkF9tPWscAXy",
        "outputId": "e172b719-f052-416c-f6df-7dd1d5d88d51"
      },
      "execution_count": null,
      "outputs": [
        {
          "output_type": "stream",
          "name": "stdout",
          "text": [
            "Mejores hiperparámetros encontrados (RandomizedSearchCV):\n",
            "{'alpha': np.float64(0.0024400607090817534), 'l1_ratio': np.float64(0.501249477568232), 'loss': 'squared_error', 'penalty': 'elasticnet'}\n",
            "\n",
            "=== Métricas promedio (5-fold CV con SGDRegressor + RandomizedSearchCV) ===\n",
            "MAE: 13535.9260 ± 310.6520\n",
            "MSE: 323861259.8436 ± 30792864.2135\n",
            "R2: 0.8891 ± 0.0085\n",
            "MAPE: 0.0923 ± 0.0059\n"
          ]
        }
      ]
    },
    {
      "cell_type": "markdown",
      "source": [
        "##Bayesian Optimization"
      ],
      "metadata": {
        "id": "uSgisNwycbwn"
      }
    },
    {
      "cell_type": "code",
      "source": [
        "# === 3. Espacio de búsqueda bayesiano ===\n",
        "search_spaces = {\n",
        "    'alpha': Real(1e-5, 1e-1, prior='log-uniform'),\n",
        "    'penalty': Categorical(['l2', 'l1', 'elasticnet']),\n",
        "    'loss': Categorical(['squared_error', 'huber']),\n",
        "    'l1_ratio': Real(0.1, 1.0)  # solo se usa si penalty = 'elasticnet'\n",
        "}\n",
        "\n",
        "# === 5. Validación cruzada ===\n",
        "cv = KFold(n_splits=5, shuffle=True, random_state=42)\n",
        "\n",
        "# === 6. Optimizador bayesiano ===\n",
        "opt = BayesSearchCV(\n",
        "    estimator=model,\n",
        "    search_spaces=search_spaces,\n",
        "    n_iter=30,\n",
        "    scoring='r2',\n",
        "    cv=cv,\n",
        "    n_jobs=-1,\n",
        "    refit=True,\n",
        "    random_state=42\n",
        ")\n",
        "\n",
        "# === 7. Entrenamiento ===\n",
        "opt.fit(X, y)\n",
        "best_model = opt.best_estimator_\n",
        "\n",
        "print(\"Mejores hiperparámetros encontrados (BayesSearchCV):\")\n",
        "print(opt.best_params_)\n",
        "\n",
        "# === 8. Evaluación final ===\n",
        "results = cross_validate(best_model, X, y, cv=cv, scoring=scoring)\n",
        "\n",
        "print(\"\\n=== Métricas promedio (5-fold CV con SGDRegressor + BayesSearchCV) ===\")\n",
        "for metric in scoring:\n",
        "    print(f\"{metric}: {np.mean(results[f'test_{metric}']):.4f} ± {np.std(results[f'test_{metric}']):.4f}\")"
      ],
      "metadata": {
        "colab": {
          "base_uri": "https://localhost:8080/"
        },
        "id": "j_eABluYcd3-",
        "outputId": "be2e1b58-f877-42a5-e44c-bc2e61e092f7"
      },
      "execution_count": null,
      "outputs": [
        {
          "output_type": "stream",
          "name": "stderr",
          "text": [
            "/usr/local/lib/python3.11/dist-packages/skopt/optimizer/optimizer.py:517: UserWarning: The objective has been evaluated at point [1e-05, 0.1, np.str_('squared_error'), np.str_('l1')] before, using random point [4.554490657921972e-05, 0.24318167559373566, 'squared_error', 'elasticnet']\n",
            "  warnings.warn(\n",
            "/usr/local/lib/python3.11/dist-packages/skopt/optimizer/optimizer.py:517: UserWarning: The objective has been evaluated at point [1e-05, 0.1, np.str_('squared_error'), np.str_('l1')] before, using random point [0.010642995574088522, 0.4350325730222441, 'squared_error', 'l2']\n",
            "  warnings.warn(\n",
            "/usr/local/lib/python3.11/dist-packages/skopt/optimizer/optimizer.py:517: UserWarning: The objective has been evaluated at point [1e-05, 0.1, np.str_('squared_error'), np.str_('l1')] before, using random point [0.00029641347504855977, 0.2679481967517265, 'squared_error', 'elasticnet']\n",
            "  warnings.warn(\n",
            "/usr/local/lib/python3.11/dist-packages/skopt/optimizer/optimizer.py:517: UserWarning: The objective has been evaluated at point [1e-05, 0.1, np.str_('squared_error'), np.str_('l1')] before, using random point [0.00014927290143803185, 0.5389720083760131, 'squared_error', 'l2']\n",
            "  warnings.warn(\n",
            "/usr/local/lib/python3.11/dist-packages/skopt/optimizer/optimizer.py:517: UserWarning: The objective has been evaluated at point [1e-05, 0.1, np.str_('squared_error'), np.str_('l1')] before, using random point [0.009429936174948254, 0.3319200605579185, 'huber', 'l2']\n",
            "  warnings.warn(\n",
            "/usr/local/lib/python3.11/dist-packages/skopt/optimizer/optimizer.py:517: UserWarning: The objective has been evaluated at point [1e-05, 0.1, np.str_('squared_error'), np.str_('l1')] before, using random point [0.0012802822943736368, 0.7282986458022752, 'huber', 'l1']\n",
            "  warnings.warn(\n",
            "/usr/local/lib/python3.11/dist-packages/skopt/optimizer/optimizer.py:517: UserWarning: The objective has been evaluated at point [1e-05, 0.1, np.str_('squared_error'), np.str_('l1')] before, using random point [0.0002969172781597947, 0.6144483613064897, 'huber', 'elasticnet']\n",
            "  warnings.warn(\n",
            "/usr/local/lib/python3.11/dist-packages/skopt/optimizer/optimizer.py:517: UserWarning: The objective has been evaluated at point [1e-05, 0.1, np.str_('squared_error'), np.str_('l1')] before, using random point [0.00010793826685444644, 0.474250786223366, 'squared_error', 'l1']\n",
            "  warnings.warn(\n",
            "/usr/local/lib/python3.11/dist-packages/skopt/optimizer/optimizer.py:517: UserWarning: The objective has been evaluated at point [0.1, 0.1, np.str_('squared_error'), np.str_('l1')] before, using random point [4.750941678690733e-05, 0.7597258967974644, 'squared_error', 'l1']\n",
            "  warnings.warn(\n"
          ]
        },
        {
          "output_type": "stream",
          "name": "stdout",
          "text": [
            "Mejores hiperparámetros encontrados (BayesSearchCV):\n",
            "OrderedDict([('alpha', 0.0029397976202716882), ('l1_ratio', 0.7978279409450943), ('loss', 'squared_error'), ('penalty', 'elasticnet')])\n",
            "\n",
            "=== Métricas promedio (5-fold CV con SGDRegressor + BayesSearchCV) ===\n",
            "MAE: 13538.5982 ± 309.9608\n",
            "MSE: 324027421.3332 ± 30818486.8127\n",
            "R2: 0.8891 ± 0.0085\n",
            "MAPE: 0.0923 ± 0.0059\n"
          ]
        }
      ]
    },
    {
      "cell_type": "markdown",
      "source": [
        "#BayesianRidge"
      ],
      "metadata": {
        "id": "6R_7TxgvcoQF"
      }
    },
    {
      "cell_type": "markdown",
      "source": [
        "##Grid Search"
      ],
      "metadata": {
        "id": "khnL00jvcqzf"
      }
    },
    {
      "cell_type": "code",
      "source": [
        "# === 2. Modelo base ===\n",
        "model = BayesianRidge()\n",
        "\n",
        "# === 3. Espacio de búsqueda para hiperparámetros ===\n",
        "param_grid = {\n",
        "    'alpha_1': [1e-6, 1e-5, 1e-4],  # hiperparámetros del prior Gamma\n",
        "    'alpha_2': [1e-6, 1e-5, 1e-4],\n",
        "    'lambda_1': [1e-6, 1e-5, 1e-4],\n",
        "    'lambda_2': [1e-6, 1e-5, 1e-4]\n",
        "}\n",
        "\n",
        "# === 5. Validación cruzada ===\n",
        "cv = KFold(n_splits=5, shuffle=True, random_state=42)\n",
        "\n",
        "# === 6. Grid Search ===\n",
        "grid = GridSearchCV(\n",
        "    estimator=model,\n",
        "    param_grid=param_grid,\n",
        "    scoring='r2',\n",
        "    cv=cv,\n",
        "    refit=True,\n",
        "    n_jobs=-1\n",
        ")\n",
        "\n",
        "# === 7. Entrenamiento ===\n",
        "grid.fit(X, y)\n",
        "best_model = grid.best_estimator_\n",
        "\n",
        "print(\"Mejores hiperparámetros encontrados (GridSearchCV):\")\n",
        "print(grid.best_params_)\n",
        "\n",
        "# === 8. Evaluación final ===\n",
        "results = cross_validate(best_model, X, y, cv=cv, scoring=scoring)\n",
        "\n",
        "print(\"\\n=== Métricas promedio (5-fold CV con BayesianRidge + GridSearchCV) ===\")\n",
        "for metric in scoring:\n",
        "    print(f\"{metric}: {np.mean(results[f'test_{metric}']):.4f} ± {np.std(results[f'test_{metric}']):.4f}\")"
      ],
      "metadata": {
        "colab": {
          "base_uri": "https://localhost:8080/"
        },
        "id": "WekUgg9YcsNe",
        "outputId": "12fca9fc-0aa2-42f2-f716-b13cb8a7863d"
      },
      "execution_count": null,
      "outputs": [
        {
          "output_type": "stream",
          "name": "stdout",
          "text": [
            "Mejores hiperparámetros encontrados (GridSearchCV):\n",
            "{'alpha_1': 0.0001, 'alpha_2': 1e-06, 'lambda_1': 1e-06, 'lambda_2': 1e-06}\n",
            "\n",
            "=== Métricas promedio (5-fold CV con BayesianRidge + GridSearchCV) ===\n",
            "MAE: 13540.9658 ± 292.1413\n",
            "MSE: 321545961.2378 ± 29652221.2776\n",
            "R2: 0.8899 ± 0.0082\n",
            "MAPE: 0.0923 ± 0.0057\n"
          ]
        }
      ]
    },
    {
      "cell_type": "markdown",
      "source": [
        "##Random Search"
      ],
      "metadata": {
        "id": "h-fyIFAAdXvq"
      }
    },
    {
      "cell_type": "code",
      "source": [
        "# === 3. Espacio de búsqueda aleatoria ===\n",
        "param_dist = {\n",
        "    'alpha_1': loguniform(1e-7, 1e-3),\n",
        "    'alpha_2': loguniform(1e-7, 1e-3),\n",
        "    'lambda_1': loguniform(1e-7, 1e-3),\n",
        "    'lambda_2': loguniform(1e-7, 1e-3)\n",
        "}\n",
        "\n",
        "# === 5. Validación cruzada ===\n",
        "cv = KFold(n_splits=5, shuffle=True, random_state=42)\n",
        "\n",
        "# === 6. Randomized Search ===\n",
        "random_search = RandomizedSearchCV(\n",
        "    estimator=model,\n",
        "    param_distributions=param_dist,\n",
        "    n_iter=30,\n",
        "    scoring='r2',\n",
        "    cv=cv,\n",
        "    refit=True,\n",
        "    n_jobs=-1,\n",
        "    random_state=42\n",
        ")\n",
        "\n",
        "# === 7. Entrenamiento ===\n",
        "random_search.fit(X, y)\n",
        "best_model = random_search.best_estimator_\n",
        "\n",
        "print(\"Mejores hiperparámetros encontrados (RandomizedSearchCV):\")\n",
        "print(random_search.best_params_)\n",
        "\n",
        "# === 8. Evaluación final ===\n",
        "results = cross_validate(best_model, X, y, cv=cv, scoring=scoring)\n",
        "\n",
        "print(\"\\n=== Métricas promedio (5-fold CV con BayesianRidge + RandomizedSearchCV) ===\")\n",
        "for metric in scoring:\n",
        "    print(f\"{metric}: {np.mean(results[f'test_{metric}']):.4f} ± {np.std(results[f'test_{metric}']):.4f}\")"
      ],
      "metadata": {
        "colab": {
          "base_uri": "https://localhost:8080/"
        },
        "id": "hGN5wzaydLPT",
        "outputId": "0362458b-9f37-4784-c7fc-6ec58ebd9a63"
      },
      "execution_count": null,
      "outputs": [
        {
          "output_type": "stream",
          "name": "stdout",
          "text": [
            "Mejores hiperparámetros encontrados (RandomizedSearchCV):\n",
            "{'alpha_1': np.float64(0.0003538758864779237), 'alpha_2': np.float64(7.74211647399625e-06), 'lambda_1': np.float64(3.008686821445843e-07), 'lambda_2': np.float64(7.128188058401354e-05)}\n",
            "\n",
            "=== Métricas promedio (5-fold CV con BayesianRidge + RandomizedSearchCV) ===\n",
            "MAE: 13540.9658 ± 292.1412\n",
            "MSE: 321545961.2383 ± 29652221.2518\n",
            "R2: 0.8899 ± 0.0082\n",
            "MAPE: 0.0923 ± 0.0057\n"
          ]
        }
      ]
    },
    {
      "cell_type": "markdown",
      "source": [
        "##Bayesian Optimization"
      ],
      "metadata": {
        "id": "30j6CBandcck"
      }
    },
    {
      "cell_type": "code",
      "source": [
        "# === 3. Espacio de búsqueda bayesiano ===\n",
        "search_spaces = {\n",
        "    'alpha_1': Real(1e-7, 1e-3, prior='log-uniform'),\n",
        "    'alpha_2': Real(1e-7, 1e-3, prior='log-uniform'),\n",
        "    'lambda_1': Real(1e-7, 1e-3, prior='log-uniform'),\n",
        "    'lambda_2': Real(1e-7, 1e-3, prior='log-uniform')\n",
        "}\n",
        "\n",
        "# === 5. Validación cruzada ===\n",
        "cv = KFold(n_splits=5, shuffle=True, random_state=42)\n",
        "\n",
        "# === 6. Optimizador bayesiano ===\n",
        "opt = BayesSearchCV(\n",
        "    estimator=model,\n",
        "    search_spaces=search_spaces,\n",
        "    n_iter=30,\n",
        "    scoring='r2',\n",
        "    cv=cv,\n",
        "    refit=True,\n",
        "    n_jobs=-1,\n",
        "    random_state=42\n",
        ")\n",
        "\n",
        "# === 7. Entrenamiento ===\n",
        "opt.fit(X, y)\n",
        "best_model = opt.best_estimator_\n",
        "\n",
        "print(\"Mejores hiperparámetros encontrados (BayesSearchCV):\")\n",
        "print(opt.best_params_)\n",
        "\n",
        "# === 8. Evaluación cruzada final ===\n",
        "results = cross_validate(best_model, X, y, cv=cv, scoring=scoring)\n",
        "\n",
        "print(\"\\n=== Métricas promedio (5-fold CV con BayesianRidge + BayesSearchCV) ===\")\n",
        "for metric in scoring:\n",
        "    print(f\"{metric}: {np.mean(results[f'test_{metric}']):.4f} ± {np.std(results[f'test_{metric}']):.4f}\")"
      ],
      "metadata": {
        "colab": {
          "base_uri": "https://localhost:8080/"
        },
        "id": "BCz-a3RydedB",
        "outputId": "4bb3f090-d04f-4338-f233-038a549d4061"
      },
      "execution_count": null,
      "outputs": [
        {
          "output_type": "stream",
          "name": "stdout",
          "text": [
            "Mejores hiperparámetros encontrados (BayesSearchCV):\n",
            "OrderedDict([('alpha_1', 0.0008992531372518143), ('alpha_2', 1.064391001430717e-07), ('lambda_1', 8.571681995566809e-07), ('lambda_2', 8.31024835273467e-06)])\n",
            "\n",
            "=== Métricas promedio (5-fold CV con BayesianRidge + BayesSearchCV) ===\n",
            "MAE: 13540.9658 ± 292.1412\n",
            "MSE: 321545961.2395 ± 29652221.2040\n",
            "R2: 0.8899 ± 0.0082\n",
            "MAPE: 0.0923 ± 0.0057\n"
          ]
        }
      ]
    },
    {
      "cell_type": "markdown",
      "source": [
        "#GaussianProcessRegressor"
      ],
      "metadata": {
        "id": "a_bXcz2ieBe1"
      }
    },
    {
      "cell_type": "markdown",
      "source": [
        "##Grid Search"
      ],
      "metadata": {
        "id": "CVhPBQ6OeEMD"
      }
    },
    {
      "cell_type": "code",
      "source": [
        "# === 2. Definir kernels combinables para búsqueda ===\n",
        "kernel_1 = ConstantKernel(1.0) * RBF(length_scale=1.0)\n",
        "kernel_2 = ConstantKernel(1.0) * DotProduct()\n",
        "kernel_3 = ConstantKernel(1.0) * RBF(length_scale=1.0) + WhiteKernel()\n",
        "\n",
        "# === 3. Espacio de búsqueda ===\n",
        "param_grid = {\n",
        "    'kernel': [kernel_1, kernel_2, kernel_3],\n",
        "    'alpha': [1e-10, 1e-5, 1e-2]\n",
        "}\n",
        "\n",
        "# === 5. Validación cruzada ===\n",
        "cv = KFold(n_splits=5, shuffle=True, random_state=42)\n",
        "\n",
        "# === 6. Grid Search con GPR ===\n",
        "model = GaussianProcessRegressor(normalize_y=True)\n",
        "grid = GridSearchCV(\n",
        "    estimator=model,\n",
        "    param_grid=param_grid,\n",
        "    scoring='r2',\n",
        "    cv=cv,\n",
        "    n_jobs=-1,\n",
        "    refit=True\n",
        ")\n",
        "\n",
        "# === 7. Entrenamiento ===\n",
        "grid.fit(X, y)\n",
        "best_model = grid.best_estimator_\n",
        "\n",
        "print(\"Mejores hiperparámetros encontrados (GridSearchCV):\")\n",
        "print(best_model.kernel)\n",
        "print(\"Alpha:\", grid.best_params_['alpha'])\n",
        "\n",
        "# === 8. Evaluación cruzada ===\n",
        "results = cross_validate(best_model, X, y, cv=cv, scoring=scoring)\n",
        "\n",
        "print(\"\\n=== Métricas promedio (5-fold CV con GPR + GridSearchCV) ===\")\n",
        "for metric in scoring:\n",
        "    print(f\"{metric}: {np.mean(results[f'test_{metric}']):.4f} ± {np.std(results[f'test_{metric}']):.4f}\")"
      ],
      "metadata": {
        "colab": {
          "base_uri": "https://localhost:8080/"
        },
        "id": "lNG4pZzkeF5j",
        "outputId": "2ad0aa9a-bc0a-47f3-b94b-c93da7420236"
      },
      "execution_count": null,
      "outputs": [
        {
          "output_type": "stream",
          "name": "stdout",
          "text": [
            "Mejores hiperparámetros encontrados (GridSearchCV):\n",
            "1**2 * RBF(length_scale=1) + WhiteKernel(noise_level=1)\n",
            "Alpha: 0.01\n",
            "\n",
            "=== Métricas promedio (5-fold CV con GPR + GridSearchCV) ===\n",
            "MAE: 11791.1221 ± 368.5425\n",
            "MSE: 262043397.5834 ± 21577384.1793\n",
            "R2: 0.9102 ± 0.0067\n",
            "MAPE: 0.0816 ± 0.0034\n"
          ]
        }
      ]
    },
    {
      "cell_type": "markdown",
      "source": [
        "##Random Search"
      ],
      "metadata": {
        "id": "5CkMQTzUetV8"
      }
    },
    {
      "cell_type": "code",
      "source": [
        "# === 3. Espacio de búsqueda aleatorio ===\n",
        "param_dist = {\n",
        "    'kernel': [\n",
        "        ConstantKernel(1.0, (0.1, 10.0)) * RBF(length_scale=1.0),\n",
        "        ConstantKernel(1.0, (0.1, 10.0)) * DotProduct(),\n",
        "        ConstantKernel(1.0, (0.1, 10.0)) * RBF(length_scale=1.0) + WhiteKernel()\n",
        "    ],\n",
        "    'alpha': loguniform(1e-10, 1e-2)\n",
        "}\n",
        "\n",
        "# === 5. Validación cruzada ===\n",
        "cv = KFold(n_splits=5, shuffle=True, random_state=42)\n",
        "\n",
        "# === 6. Randomized Search ===\n",
        "random_search = RandomizedSearchCV(\n",
        "    estimator=model,\n",
        "    param_distributions=param_dist,\n",
        "    n_iter=15,  # puedes aumentar según tiempo disponible\n",
        "    scoring='r2',\n",
        "    cv=cv,\n",
        "    n_jobs=-1,\n",
        "    refit=True,\n",
        "    random_state=42\n",
        ")\n",
        "\n",
        "# === 7. Entrenamiento ===\n",
        "random_search.fit(X, y)\n",
        "best_model = random_search.best_estimator_\n",
        "\n",
        "print(\"Mejores hiperparámetros encontrados (RandomizedSearchCV):\")\n",
        "print(best_model.kernel)\n",
        "print(\"Alpha:\", random_search.best_params_['alpha'])\n",
        "\n",
        "# === 8. Evaluación cruzada ===\n",
        "results = cross_validate(best_model, X, y, cv=cv, scoring=scoring)\n",
        "\n",
        "print(\"\\n=== Métricas promedio (5-fold CV con GPR + RandomizedSearchCV) ===\")\n",
        "for metric in scoring:\n",
        "    print(f\"{metric}: {np.mean(results[f'test_{metric}']):.4f} ± {np.std(results[f'test_{metric}']):.4f}\")"
      ],
      "metadata": {
        "colab": {
          "base_uri": "https://localhost:8080/"
        },
        "id": "DF7HEEDgevik",
        "outputId": "281fb9c4-1aa9-4247-aed1-76934f1af321"
      },
      "execution_count": null,
      "outputs": [
        {
          "output_type": "stream",
          "name": "stdout",
          "text": [
            "Mejores hiperparámetros encontrados (RandomizedSearchCV):\n",
            "1**2 * RBF(length_scale=1) + WhiteKernel(noise_level=1)\n",
            "Alpha: 4.452048365748848e-07\n",
            "\n",
            "=== Métricas promedio (5-fold CV con GPR + RandomizedSearchCV) ===\n",
            "MAE: 11791.1210 ± 368.5415\n",
            "MSE: 262043364.0511 ± 21577430.0651\n",
            "R2: 0.9102 ± 0.0067\n",
            "MAPE: 0.0816 ± 0.0034\n"
          ]
        }
      ]
    },
    {
      "cell_type": "markdown",
      "source": [
        "##Bayesian Optimization"
      ],
      "metadata": {
        "id": "ycaXlOANe9X7"
      }
    },
    {
      "cell_type": "code",
      "source": [
        "# === 1. Función para construir el kernel según nombre ===\n",
        "def build_kernel(name):\n",
        "    if name == 'rbf':\n",
        "        return ConstantKernel(1.0, (0.1, 10.0)) * RBF(length_scale=1.0)\n",
        "    elif name == 'dot':\n",
        "        return ConstantKernel(1.0, (0.1, 10.0)) * DotProduct()\n",
        "    elif name == 'rbf+white':\n",
        "        return ConstantKernel(1.0, (0.1, 10.0)) * RBF(length_scale=1.0) + WhiteKernel()\n",
        "    else:\n",
        "        raise ValueError(\"Nombre de kernel no reconocido\")\n",
        "\n",
        "# === 2. Estimador personalizado para usar con BayesSearchCV ===\n",
        "class GPRKernelWrapper(BaseEstimator, RegressorMixin):\n",
        "    def __init__(self, kernel_name='rbf', alpha=1e-10):\n",
        "        self.kernel_name = kernel_name\n",
        "        self.alpha = alpha\n",
        "        self.model = None\n",
        "\n",
        "    def fit(self, X, y):\n",
        "        kernel = build_kernel(self.kernel_name)\n",
        "        self.model = GaussianProcessRegressor(kernel=kernel, alpha=self.alpha)\n",
        "        self.model.fit(X, y)\n",
        "        return self\n",
        "\n",
        "    def predict(self, X):\n",
        "        return self.model.predict(X)\n",
        "\n",
        "    @property\n",
        "    def kernel(self):\n",
        "        return self.model.kernel_ if self.model is not None else None\n",
        "\n",
        "# === 3. Espacio de búsqueda para BayesSearchCV ===\n",
        "search_spaces = {\n",
        "    'kernel_name': Categorical(['rbf', 'dot', 'rbf+white']),\n",
        "    'alpha': Real(1e-10, 1e-2, prior='log-uniform')\n",
        "}\n",
        "\n",
        "# === 4. Modelo base ===\n",
        "model = GPRKernelWrapper()\n",
        "\n",
        "# === 5. Validación cruzada ===\n",
        "cv = KFold(n_splits=5, shuffle=True, random_state=42)\n",
        "\n",
        "# === 6. Configurar BayesSearchCV ===\n",
        "opt = BayesSearchCV(\n",
        "    estimator=model,\n",
        "    search_spaces=search_spaces,\n",
        "    n_iter=25,  # puedes aumentar para una búsqueda más exhaustiva\n",
        "    scoring='r2',\n",
        "    cv=cv,\n",
        "    n_jobs=-1,\n",
        "    refit=True,\n",
        "    random_state=42\n",
        ")\n",
        "\n",
        "# === 7. Entrenamiento ===\n",
        "opt.fit(X, y)\n",
        "best_model = opt.best_estimator_\n",
        "\n",
        "print(\"Mejores hiperparámetros encontrados (BayesSearchCV):\")\n",
        "print(best_model.kernel)\n",
        "print(\"Alpha:\", opt.best_params_['alpha'])\n",
        "\n",
        "# === 8. Evaluación con métricas ===\n",
        "scoring = ['r2', 'neg_mean_absolute_error', 'neg_mean_squared_error']\n",
        "results = cross_validate(best_model, X, y, cv=cv, scoring=scoring)\n",
        "\n",
        "print(\"\\n=== Métricas promedio (5-fold CV con GPR + BayesSearchCV) ===\")\n",
        "for metric in scoring:\n",
        "    print(f\"{metric}: {np.mean(results[f'test_{metric}']):.4f} ± {np.std(results[f'test_{metric}']):.4f}\")"
      ],
      "metadata": {
        "colab": {
          "base_uri": "https://localhost:8080/"
        },
        "id": "MCN44YIfe_Kc",
        "outputId": "036dcc83-41b7-47d1-a9f2-59657d295918"
      },
      "execution_count": null,
      "outputs": [
        {
          "output_type": "stream",
          "name": "stderr",
          "text": [
            "/usr/local/lib/python3.11/dist-packages/skopt/optimizer/optimizer.py:517: UserWarning: The objective has been evaluated at point [1e-10, np.str_('dot')] before, using random point [2.900170356212243e-10, 'rbf+white']\n",
            "  warnings.warn(\n",
            "/usr/local/lib/python3.11/dist-packages/skopt/optimizer/optimizer.py:517: UserWarning: The objective has been evaluated at point [1e-10, np.str_('dot')] before, using random point [2.771959065755811e-08, 'rbf']\n",
            "  warnings.warn(\n",
            "/usr/local/lib/python3.11/dist-packages/skopt/optimizer/optimizer.py:517: UserWarning: The objective has been evaluated at point [0.01, np.str_('dot')] before, using random point [0.0003396918377558348, 'rbf+white']\n",
            "  warnings.warn(\n",
            "/usr/local/lib/python3.11/dist-packages/skopt/optimizer/optimizer.py:517: UserWarning: The objective has been evaluated at point [0.01, np.str_('dot')] before, using random point [4.0189876087203675e-08, 'rbf']\n",
            "  warnings.warn(\n",
            "/usr/local/lib/python3.11/dist-packages/skopt/optimizer/optimizer.py:517: UserWarning: The objective has been evaluated at point [0.01, np.str_('dot')] before, using random point [3.4512931413147765e-08, 'rbf']\n",
            "  warnings.warn(\n",
            "/usr/local/lib/python3.11/dist-packages/skopt/optimizer/optimizer.py:517: UserWarning: The objective has been evaluated at point [0.01, np.str_('dot')] before, using random point [7.519511716475337e-08, 'rbf']\n",
            "  warnings.warn(\n",
            "/usr/local/lib/python3.11/dist-packages/skopt/optimizer/optimizer.py:517: UserWarning: The objective has been evaluated at point [0.01, np.str_('dot')] before, using random point [0.00017772550371840737, 'rbf+white']\n",
            "  warnings.warn(\n",
            "/usr/local/lib/python3.11/dist-packages/skopt/optimizer/optimizer.py:517: UserWarning: The objective has been evaluated at point [0.01, np.str_('dot')] before, using random point [1.4218852402239745e-07, 'rbf']\n",
            "  warnings.warn(\n",
            "/usr/local/lib/python3.11/dist-packages/skopt/optimizer/optimizer.py:517: UserWarning: The objective has been evaluated at point [0.01, np.str_('dot')] before, using random point [1.6740807506462215e-09, 'rbf+white']\n",
            "  warnings.warn(\n",
            "/usr/local/lib/python3.11/dist-packages/skopt/optimizer/optimizer.py:517: UserWarning: The objective has been evaluated at point [0.01, np.str_('dot')] before, using random point [2.0889380793089574e-10, 'rbf+white']\n",
            "  warnings.warn(\n",
            "/usr/local/lib/python3.11/dist-packages/skopt/optimizer/optimizer.py:517: UserWarning: The objective has been evaluated at point [0.01, np.str_('dot')] before, using random point [1.2426220005275265e-05, 'dot']\n",
            "  warnings.warn(\n",
            "/usr/local/lib/python3.11/dist-packages/skopt/optimizer/optimizer.py:517: UserWarning: The objective has been evaluated at point [0.01, np.str_('dot')] before, using random point [1.229150180178382e-08, 'rbf+white']\n",
            "  warnings.warn(\n",
            "/usr/local/lib/python3.11/dist-packages/skopt/optimizer/optimizer.py:517: UserWarning: The objective has been evaluated at point [0.01, np.str_('dot')] before, using random point [5.03978707402221e-06, 'dot']\n",
            "  warnings.warn(\n"
          ]
        },
        {
          "output_type": "stream",
          "name": "stdout",
          "text": [
            "Mejores hiperparámetros encontrados (BayesSearchCV):\n",
            "1**2 * DotProduct(sigma_0=1)\n",
            "Alpha: 0.0002491308632420524\n",
            "\n",
            "=== Métricas promedio (5-fold CV con GPR + BayesSearchCV) ===\n",
            "r2: 0.8898 ± 0.0080\n",
            "neg_mean_absolute_error: -13548.8598 ± 283.6893\n",
            "neg_mean_squared_error: -321805873.1864 ± 29636598.4639\n"
          ]
        }
      ]
    },
    {
      "cell_type": "markdown",
      "source": [
        "#RandomForestRegressor"
      ],
      "metadata": {
        "id": "1qFIyaCjgNRK"
      }
    },
    {
      "cell_type": "markdown",
      "source": [
        "##Grid Search"
      ],
      "metadata": {
        "id": "bgV-RWodgPLo"
      }
    },
    {
      "cell_type": "code",
      "source": [
        "# === 2. Modelo base ===\n",
        "model = RandomForestRegressor(random_state=42, n_jobs=-1)\n",
        "\n",
        "# === 3. Espacio de búsqueda para GridSearch ===\n",
        "param_grid = {\n",
        "    'n_estimators': [100, 200],\n",
        "    'max_depth': [None, 10, 20],\n",
        "    'min_samples_split': [2, 5],\n",
        "    'min_samples_leaf': [1, 2],\n",
        "    'max_features': ['auto', 'sqrt']\n",
        "}\n",
        "\n",
        "# === 4. Métricas ===\n",
        "scoring = {\n",
        "    'MAE': make_scorer(mean_absolute_error),\n",
        "    'MSE': make_scorer(mean_squared_error),\n",
        "    'R2': make_scorer(r2_score),\n",
        "    'MAPE': make_scorer(mean_absolute_percentage_error)\n",
        "}\n",
        "\n",
        "# === 5. Validación cruzada ===\n",
        "cv = KFold(n_splits=5, shuffle=True, random_state=42)\n",
        "\n",
        "# === 6. Grid Search ===\n",
        "grid = GridSearchCV(\n",
        "    estimator=model,\n",
        "    param_grid=param_grid,\n",
        "    scoring='r2',\n",
        "    cv=cv,\n",
        "    refit=True,\n",
        "    n_jobs=-1\n",
        ")\n",
        "\n",
        "# === 7. Entrenamiento ===\n",
        "grid.fit(X, y)\n",
        "best_model = grid.best_estimator_\n",
        "\n",
        "print(\"Mejores hiperparámetros encontrados (GridSearchCV):\")\n",
        "print(grid.best_params_)\n",
        "\n",
        "# === 8. Evaluación cruzada ===\n",
        "results = cross_validate(best_model, X, y, cv=cv, scoring=scoring)\n",
        "\n",
        "print(\"\\n=== Métricas promedio (5-fold CV con RandomForestRegressor + GridSearchCV) ===\")\n",
        "for metric in scoring:\n",
        "    print(f\"{metric}: {np.mean(results[f'test_{metric}']):.4f} ± {np.std(results[f'test_{metric}']):.4f}\")"
      ],
      "metadata": {
        "colab": {
          "base_uri": "https://localhost:8080/"
        },
        "id": "703M469XgRLC",
        "outputId": "5f81badc-c3b3-4ac5-d775-007961e67157"
      },
      "execution_count": null,
      "outputs": [
        {
          "output_type": "stream",
          "name": "stderr",
          "text": [
            "/usr/local/lib/python3.11/dist-packages/sklearn/model_selection/_validation.py:528: FitFailedWarning: \n",
            "120 fits failed out of a total of 240.\n",
            "The score on these train-test partitions for these parameters will be set to nan.\n",
            "If these failures are not expected, you can try to debug them by setting error_score='raise'.\n",
            "\n",
            "Below are more details about the failures:\n",
            "--------------------------------------------------------------------------------\n",
            "120 fits failed with the following error:\n",
            "Traceback (most recent call last):\n",
            "  File \"/usr/local/lib/python3.11/dist-packages/sklearn/model_selection/_validation.py\", line 866, in _fit_and_score\n",
            "    estimator.fit(X_train, y_train, **fit_params)\n",
            "  File \"/usr/local/lib/python3.11/dist-packages/sklearn/base.py\", line 1382, in wrapper\n",
            "    estimator._validate_params()\n",
            "  File \"/usr/local/lib/python3.11/dist-packages/sklearn/base.py\", line 436, in _validate_params\n",
            "    validate_parameter_constraints(\n",
            "  File \"/usr/local/lib/python3.11/dist-packages/sklearn/utils/_param_validation.py\", line 98, in validate_parameter_constraints\n",
            "    raise InvalidParameterError(\n",
            "sklearn.utils._param_validation.InvalidParameterError: The 'max_features' parameter of RandomForestRegressor must be an int in the range [1, inf), a float in the range (0.0, 1.0], a str among {'log2', 'sqrt'} or None. Got 'auto' instead.\n",
            "\n",
            "  warnings.warn(some_fits_failed_message, FitFailedWarning)\n",
            "/usr/local/lib/python3.11/dist-packages/sklearn/model_selection/_search.py:1108: UserWarning: One or more of the test scores are non-finite: [       nan        nan        nan        nan        nan        nan\n",
            "        nan        nan 0.89370257 0.89565079 0.89419318 0.89622847\n",
            " 0.89147845 0.89322471 0.89145875 0.89300001        nan        nan\n",
            "        nan        nan        nan        nan        nan        nan\n",
            " 0.88891306 0.89050417 0.88973048 0.89133462 0.88903736 0.89001612\n",
            " 0.88993636 0.89128693        nan        nan        nan        nan\n",
            "        nan        nan        nan        nan 0.89428042 0.89557382\n",
            " 0.89478902 0.89579367 0.89202505 0.89377463 0.89112407 0.89279828]\n",
            "  warnings.warn(\n"
          ]
        },
        {
          "output_type": "stream",
          "name": "stdout",
          "text": [
            "Mejores hiperparámetros encontrados (GridSearchCV):\n",
            "{'max_depth': None, 'max_features': 'sqrt', 'min_samples_leaf': 1, 'min_samples_split': 5, 'n_estimators': 200}\n",
            "\n",
            "=== Métricas promedio (5-fold CV con RandomForestRegressor + GridSearchCV) ===\n",
            "MAE: 12282.5522 ± 646.1886\n",
            "MSE: 303178936.3572 ± 49042575.5361\n",
            "R2: 0.8962 ± 0.0161\n",
            "MAPE: 0.0863 ± 0.0079\n"
          ]
        }
      ]
    },
    {
      "cell_type": "markdown",
      "source": [
        "##Random Search"
      ],
      "metadata": {
        "id": "_5q8fw_SgsUd"
      }
    },
    {
      "cell_type": "code",
      "source": [
        "# === 3. Espacio de búsqueda aleatoria ===\n",
        "param_dist = {\n",
        "    'n_estimators': randint(100, 500),\n",
        "    'max_depth': [None] + list(range(5, 31, 5)),\n",
        "    'min_samples_split': randint(2, 10),\n",
        "    'min_samples_leaf': randint(1, 5),\n",
        "    'max_features': ['auto', 'sqrt', 'log2']\n",
        "}\n",
        "\n",
        "# === 5. Validación cruzada ===\n",
        "cv = KFold(n_splits=5, shuffle=True, random_state=42)\n",
        "\n",
        "# === 6. Randomized Search ===\n",
        "random_search = RandomizedSearchCV(\n",
        "    estimator=model,\n",
        "    param_distributions=param_dist,\n",
        "    n_iter=30,\n",
        "    scoring='r2',\n",
        "    cv=cv,\n",
        "    refit=True,\n",
        "    random_state=42,\n",
        "    n_jobs=-1\n",
        ")\n",
        "\n",
        "# === 7. Entrenamiento ===\n",
        "random_search.fit(X, y)\n",
        "best_model = random_search.best_estimator_\n",
        "\n",
        "print(\"Mejores hiperparámetros encontrados (RandomizedSearchCV):\")\n",
        "print(random_search.best_params_)\n",
        "\n",
        "# === 8. Evaluación cruzada final ===\n",
        "results = cross_validate(best_model, X, y, cv=cv, scoring=scoring)\n",
        "\n",
        "print(\"\\n=== Métricas promedio (5-fold CV con RandomForestRegressor + RandomizedSearchCV) ===\")\n",
        "for metric in scoring:\n",
        "    print(f\"{metric}: {np.mean(results[f'test_{metric}']):.4f} ± {np.std(results[f'test_{metric}']):.4f}\")"
      ],
      "metadata": {
        "colab": {
          "base_uri": "https://localhost:8080/"
        },
        "id": "NPq3qrVUgyIK",
        "outputId": "992e412c-8ba1-4668-bfbe-af67b137d896"
      },
      "execution_count": null,
      "outputs": [
        {
          "output_type": "stream",
          "name": "stderr",
          "text": [
            "/usr/local/lib/python3.11/dist-packages/sklearn/model_selection/_validation.py:528: FitFailedWarning: \n",
            "45 fits failed out of a total of 150.\n",
            "The score on these train-test partitions for these parameters will be set to nan.\n",
            "If these failures are not expected, you can try to debug them by setting error_score='raise'.\n",
            "\n",
            "Below are more details about the failures:\n",
            "--------------------------------------------------------------------------------\n",
            "45 fits failed with the following error:\n",
            "Traceback (most recent call last):\n",
            "  File \"/usr/local/lib/python3.11/dist-packages/sklearn/model_selection/_validation.py\", line 866, in _fit_and_score\n",
            "    estimator.fit(X_train, y_train, **fit_params)\n",
            "  File \"/usr/local/lib/python3.11/dist-packages/sklearn/base.py\", line 1382, in wrapper\n",
            "    estimator._validate_params()\n",
            "  File \"/usr/local/lib/python3.11/dist-packages/sklearn/base.py\", line 436, in _validate_params\n",
            "    validate_parameter_constraints(\n",
            "  File \"/usr/local/lib/python3.11/dist-packages/sklearn/utils/_param_validation.py\", line 98, in validate_parameter_constraints\n",
            "    raise InvalidParameterError(\n",
            "sklearn.utils._param_validation.InvalidParameterError: The 'max_features' parameter of RandomForestRegressor must be an int in the range [1, inf), a float in the range (0.0, 1.0], a str among {'log2', 'sqrt'} or None. Got 'auto' instead.\n",
            "\n",
            "  warnings.warn(some_fits_failed_message, FitFailedWarning)\n",
            "/usr/local/lib/python3.11/dist-packages/sklearn/model_selection/_search.py:1108: UserWarning: One or more of the test scores are non-finite: [       nan        nan 0.88393289 0.89254064 0.89397945        nan\n",
            "        nan 0.88700783 0.891859   0.88550988 0.88905821 0.88904648\n",
            " 0.89418621 0.88905858 0.88628482 0.89242276 0.8923898  0.84937176\n",
            " 0.89304422 0.88593353        nan 0.89081529        nan        nan\n",
            "        nan 0.88832516 0.89089201 0.84278515        nan 0.88987037]\n",
            "  warnings.warn(\n"
          ]
        },
        {
          "output_type": "stream",
          "name": "stdout",
          "text": [
            "Mejores hiperparámetros encontrados (RandomizedSearchCV):\n",
            "{'max_depth': 25, 'max_features': 'sqrt', 'min_samples_leaf': 2, 'min_samples_split': 2, 'n_estimators': 445}\n",
            "\n",
            "=== Métricas promedio (5-fold CV con RandomForestRegressor + RandomizedSearchCV) ===\n",
            "MAE: 12387.7479 ± 642.9480\n",
            "MSE: 309167441.5961 ± 49391028.6698\n",
            "R2: 0.8942 ± 0.0161\n",
            "MAPE: 0.0872 ± 0.0079\n"
          ]
        }
      ]
    },
    {
      "cell_type": "markdown",
      "source": [
        "##Bayesian Optimization"
      ],
      "metadata": {
        "id": "T_QYX1Q2hGPQ"
      }
    },
    {
      "cell_type": "code",
      "source": [
        "# === 3. Espacio de búsqueda bayesiano ===\n",
        "search_spaces = {\n",
        "    'n_estimators': Integer(100, 500),\n",
        "    'max_depth': Integer(5, 30),\n",
        "    'min_samples_split': Integer(2, 10),\n",
        "    'min_samples_leaf': Integer(1, 5),\n",
        "    'max_features': Categorical(['sqrt', 'log2'])\n",
        "}\n",
        "\n",
        "# === 5. Validación cruzada ===\n",
        "cv = KFold(n_splits=5, shuffle=True, random_state=42)\n",
        "\n",
        "# === 6. BayesSearchCV con GPR ===\n",
        "opt = BayesSearchCV(\n",
        "    estimator=model,\n",
        "    search_spaces=search_spaces,\n",
        "    n_iter=30,\n",
        "    scoring='r2',\n",
        "    cv=cv,\n",
        "    refit=True,\n",
        "    n_jobs=-1,\n",
        "    random_state=42\n",
        ")\n",
        "\n",
        "# === 7. Entrenamiento ===\n",
        "opt.fit(X, y)\n",
        "best_model = opt.best_estimator_\n",
        "\n",
        "print(\"Mejores hiperparámetros encontrados (BayesSearchCV):\")\n",
        "print(opt.best_params_)\n",
        "\n",
        "# === 8. Evaluación cruzada ===\n",
        "results = cross_validate(best_model, X, y, cv=cv, scoring=scoring)\n",
        "\n",
        "print(\"\\n=== Métricas promedio (5-fold CV con RandomForestRegressor + BayesSearchCV) ===\")\n",
        "for metric in scoring:\n",
        "    print(f\"{metric}: {np.mean(results[f'test_{metric}']):.4f} ± {np.std(results[f'test_{metric}']):.4f}\")"
      ],
      "metadata": {
        "colab": {
          "base_uri": "https://localhost:8080/"
        },
        "id": "vw4BagEzhIKc",
        "outputId": "994f2e43-49ee-4144-d268-3389f39572e7"
      },
      "execution_count": null,
      "outputs": [
        {
          "output_type": "stream",
          "name": "stdout",
          "text": [
            "Mejores hiperparámetros encontrados (BayesSearchCV):\n",
            "OrderedDict([('max_depth', 30), ('max_features', 'sqrt'), ('min_samples_leaf', 1), ('min_samples_split', 2), ('n_estimators', 500)])\n",
            "\n",
            "=== Métricas promedio (5-fold CV con RandomForestRegressor + BayesSearchCV) ===\n",
            "MAE: 12199.0059 ± 624.9526\n",
            "MSE: 301186327.0232 ± 47941241.3479\n",
            "R2: 0.8969 ± 0.0157\n",
            "MAPE: 0.0858 ± 0.0075\n"
          ]
        }
      ]
    },
    {
      "cell_type": "markdown",
      "source": [
        "#Support Vector Machines Regressor"
      ],
      "metadata": {
        "id": "yIgRpqvbhPEb"
      }
    },
    {
      "cell_type": "markdown",
      "source": [
        "##Grid Search"
      ],
      "metadata": {
        "id": "4Qn1igDohS3_"
      }
    },
    {
      "cell_type": "code",
      "source": [
        "# === 2. Modelo base ===\n",
        "model = SVR()\n",
        "\n",
        "# === 3. Espacio de búsqueda para GridSearch ===\n",
        "param_grid = {\n",
        "    'kernel': ['linear', 'rbf', 'poly'],\n",
        "    'C': [0.1, 1, 10, 100],\n",
        "    'epsilon': [0.01, 0.1, 1],\n",
        "    'gamma': ['scale', 'auto']\n",
        "}\n",
        "\n",
        "# === 4. Métricas personalizadas ===\n",
        "scoring = {\n",
        "    'MAE': make_scorer(mean_absolute_error),\n",
        "    'MSE': make_scorer(mean_squared_error),\n",
        "    'R2': make_scorer(r2_score),\n",
        "    'MAPE': make_scorer(mean_absolute_percentage_error)\n",
        "}\n",
        "\n",
        "# === 5. Validación cruzada ===\n",
        "cv = KFold(n_splits=5, shuffle=True, random_state=42)\n",
        "\n",
        "# === 6. Grid Search ===\n",
        "grid = GridSearchCV(\n",
        "    estimator=model,\n",
        "    param_grid=param_grid,\n",
        "    scoring='r2',\n",
        "    cv=cv,\n",
        "    refit=True,\n",
        "    n_jobs=-1\n",
        ")\n",
        "\n",
        "# === 7. Entrenamiento ===\n",
        "grid.fit(X, y)\n",
        "best_model = grid.best_estimator_\n",
        "\n",
        "print(\"Mejores hiperparámetros encontrados (GridSearchCV):\")\n",
        "print(grid.best_params_)\n",
        "\n",
        "# === 8. Evaluación cruzada ===\n",
        "results = cross_validate(best_model, X, y, cv=cv, scoring=scoring)\n",
        "\n",
        "print(\"\\n=== Métricas promedio (5-fold CV con SVR + GridSearchCV) ===\")\n",
        "for metric in scoring:\n",
        "    print(f\"{metric}: {np.mean(results[f'test_{metric}']):.4f} ± {np.std(results[f'test_{metric}']):.4f}\")"
      ],
      "metadata": {
        "colab": {
          "base_uri": "https://localhost:8080/"
        },
        "id": "Da86LO4GhUK5",
        "outputId": "ff93f392-37ce-469f-e1f5-ca0560dc4535"
      },
      "execution_count": null,
      "outputs": [
        {
          "output_type": "stream",
          "name": "stdout",
          "text": [
            "Mejores hiperparámetros encontrados (GridSearchCV):\n",
            "{'C': 100, 'epsilon': 1, 'gamma': 'scale', 'kernel': 'linear'}\n",
            "\n",
            "=== Métricas promedio (5-fold CV con SVR + GridSearchCV) ===\n",
            "MAE: 13659.2587 ± 461.4721\n",
            "MSE: 355259403.3134 ± 43438066.6802\n",
            "R2: 0.8783 ± 0.0138\n",
            "MAPE: 0.0905 ± 0.0055\n"
          ]
        }
      ]
    },
    {
      "cell_type": "markdown",
      "source": [
        "##Random Search"
      ],
      "metadata": {
        "id": "U02AfdiHhjiz"
      }
    },
    {
      "cell_type": "code",
      "source": [
        "# === 3. Espacio de búsqueda aleatoria ===\n",
        "param_dist = {\n",
        "    'kernel': ['linear', 'rbf', 'poly'],\n",
        "    'C': uniform(0.1, 100),       # valores entre 0.1 y 100.1\n",
        "    'epsilon': uniform(0.01, 1),  # valores entre 0.01 y 1.01\n",
        "    'gamma': ['scale', 'auto']\n",
        "}\n",
        "\n",
        "# === 5. Validación cruzada ===\n",
        "cv = KFold(n_splits=5, shuffle=True, random_state=42)\n",
        "\n",
        "# === 6. Randomized Search ===\n",
        "random_search = RandomizedSearchCV(\n",
        "    estimator=model,\n",
        "    param_distributions=param_dist,\n",
        "    n_iter=30,\n",
        "    scoring='r2',\n",
        "    cv=cv,\n",
        "    refit=True,\n",
        "    n_jobs=-1,\n",
        "    random_state=42\n",
        ")\n",
        "\n",
        "# === 7. Entrenamiento ===\n",
        "random_search.fit(X, y)\n",
        "best_model = random_search.best_estimator_\n",
        "\n",
        "print(\"Mejores hiperparámetros encontrados (RandomizedSearchCV):\")\n",
        "print(random_search.best_params_)\n",
        "\n",
        "# === 8. Evaluación cruzada final ===\n",
        "results = cross_validate(best_model, X, y, cv=cv, scoring=scoring)\n",
        "\n",
        "print(\"\\n=== Métricas promedio (5-fold CV con SVR + RandomizedSearchCV) ===\")\n",
        "for metric in scoring:\n",
        "    print(f\"{metric}: {np.mean(results[f'test_{metric}']):.4f} ± {np.std(results[f'test_{metric}']):.4f}\")"
      ],
      "metadata": {
        "colab": {
          "base_uri": "https://localhost:8080/"
        },
        "id": "dPHZ9GK8hkxN",
        "outputId": "ab6174d8-d204-4e2c-9473-bb7bfd77d659"
      },
      "execution_count": null,
      "outputs": [
        {
          "output_type": "stream",
          "name": "stdout",
          "text": [
            "Mejores hiperparámetros encontrados (RandomizedSearchCV):\n",
            "{'C': np.float64(82.97375091519292), 'epsilon': np.float64(0.3667533266935893), 'gamma': 'auto', 'kernel': 'linear'}\n",
            "\n",
            "=== Métricas promedio (5-fold CV con SVR + RandomizedSearchCV) ===\n",
            "MAE: 13742.0440 ± 476.4561\n",
            "MSE: 362025061.2933 ± 45000976.2265\n",
            "R2: 0.8760 ± 0.0143\n",
            "MAPE: 0.0907 ± 0.0055\n"
          ]
        }
      ]
    },
    {
      "cell_type": "markdown",
      "source": [
        "##Bayesian Optimization"
      ],
      "metadata": {
        "id": "6kh_3vkLhr5I"
      }
    },
    {
      "cell_type": "code",
      "source": [
        "# === 3. Espacio de búsqueda bayesiano ===\n",
        "search_spaces = {\n",
        "    'kernel': Categorical(['linear', 'rbf', 'poly']),\n",
        "    'C': Real(0.1, 100.0, prior='log-uniform'),\n",
        "    'epsilon': Real(0.01, 1.0, prior='log-uniform'),\n",
        "    'gamma': Categorical(['scale', 'auto'])\n",
        "}\n",
        "\n",
        "# === 5. Validación cruzada ===\n",
        "cv = KFold(n_splits=5, shuffle=True, random_state=42)\n",
        "\n",
        "# === 6. BayesSearchCV ===\n",
        "opt = BayesSearchCV(\n",
        "    estimator=model,\n",
        "    search_spaces=search_spaces,\n",
        "    n_iter=30,\n",
        "    scoring='r2',\n",
        "    cv=cv,\n",
        "    refit=True,\n",
        "    n_jobs=-1,\n",
        "    random_state=42\n",
        ")\n",
        "\n",
        "# === 7. Entrenamiento ===\n",
        "opt.fit(X, y)\n",
        "best_model = opt.best_estimator_\n",
        "\n",
        "print(\"Mejores hiperparámetros encontrados (BayesSearchCV):\")\n",
        "print(opt.best_params_)\n",
        "\n",
        "# === 8. Evaluación final ===\n",
        "results = cross_validate(best_model, X, y, cv=cv, scoring=scoring)\n",
        "\n",
        "print(\"\\n=== Métricas promedio (5-fold CV con SVR + BayesSearchCV) ===\")\n",
        "for metric in scoring:\n",
        "    print(f\"{metric}: {np.mean(results[f'test_{metric}']):.4f} ± {np.std(results[f'test_{metric}']):.4f}\")"
      ],
      "metadata": {
        "colab": {
          "base_uri": "https://localhost:8080/"
        },
        "id": "1QXMvFCUhvJt",
        "outputId": "5479c4e8-da3e-45a9-91b4-12409b8b0763"
      },
      "execution_count": null,
      "outputs": [
        {
          "output_type": "stream",
          "name": "stdout",
          "text": [
            "Mejores hiperparámetros encontrados (BayesSearchCV):\n",
            "OrderedDict([('C', 100.0), ('epsilon', 1.0), ('gamma', 'scale'), ('kernel', 'linear')])\n",
            "\n",
            "=== Métricas promedio (5-fold CV con SVR + BayesSearchCV) ===\n",
            "MAE: 13659.2587 ± 461.4721\n",
            "MSE: 355259403.3134 ± 43438066.6802\n",
            "R2: 0.8783 ± 0.0138\n",
            "MAPE: 0.0905 ± 0.0055\n"
          ]
        }
      ]
    }
  ]
}